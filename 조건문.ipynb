{
  "nbformat": 4,
  "nbformat_minor": 0,
  "metadata": {
    "colab": {
      "provenance": [],
      "authorship_tag": "ABX9TyMdEsqnuEh97gzg2d0se6C0",
      "include_colab_link": true
    },
    "kernelspec": {
      "name": "python3",
      "display_name": "Python 3"
    },
    "language_info": {
      "name": "python"
    }
  },
  "cells": [
    {
      "cell_type": "markdown",
      "metadata": {
        "id": "view-in-github",
        "colab_type": "text"
      },
      "source": [
        "<a href=\"https://colab.research.google.com/github/shunnnl/2023-AI-BASIC/blob/main/%EC%A1%B0%EA%B1%B4%EB%AC%B8.ipynb\" target=\"_parent\"><img src=\"https://colab.research.google.com/assets/colab-badge.svg\" alt=\"Open In Colab\"/></a>"
      ]
    },
    {
      "cell_type": "code",
      "execution_count": 1,
      "metadata": {
        "colab": {
          "base_uri": "https://localhost:8080/"
        },
        "id": "AKWcNWUMFooX",
        "outputId": "071a9bb0-ab59-479b-ed82-31c7dfb034c2"
      },
      "outputs": [
        {
          "output_type": "stream",
          "name": "stdout",
          "text": [
            "카푸치노\n"
          ]
        }
      ],
      "source": [
        "weather=\"비\"\n",
        "today_temp=30\n",
        "if weather==\"맑음\":\n",
        "  if today_temp>0:\n",
        "    print(\"아이스 아메리카노\")\n",
        "  elif today_temp==0:\n",
        "    print(\"미지근한 아메리카노\")\n",
        "  else:\n",
        "    print(\"따뜻한 아메리카노\")\n",
        "else:\n",
        "  print(\"카푸치노\")"
      ]
    },
    {
      "cell_type": "code",
      "source": [
        "math_score=80\n",
        "eng_score=100\n",
        "if eng_score>=90 or math_score>=90:\n",
        "  print(\"용돈 인상\")\n",
        "elif eng_score<=80 or math_score<=80:\n",
        "  print(\"용돈 삭감\")\n",
        "else:\n",
        "  print(\"동결\")"
      ],
      "metadata": {
        "colab": {
          "base_uri": "https://localhost:8080/"
        },
        "id": "8OENnM9fGXD9",
        "outputId": "f4170d3c-27b4-4a54-cf58-572ccf0d0058"
      },
      "execution_count": 2,
      "outputs": [
        {
          "output_type": "stream",
          "name": "stdout",
          "text": [
            "동결\n"
          ]
        }
      ]
    }
  ]
}