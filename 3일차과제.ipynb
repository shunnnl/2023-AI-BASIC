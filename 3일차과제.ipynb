{
  "nbformat": 4,
  "nbformat_minor": 0,
  "metadata": {
    "colab": {
      "provenance": [],
      "authorship_tag": "ABX9TyO4wtfKUnX/Pobib9k7yZrY",
      "include_colab_link": true
    },
    "kernelspec": {
      "name": "python3",
      "display_name": "Python 3"
    },
    "language_info": {
      "name": "python"
    }
  },
  "cells": [
    {
      "cell_type": "markdown",
      "metadata": {
        "id": "view-in-github",
        "colab_type": "text"
      },
      "source": [
        "<a href=\"https://colab.research.google.com/github/shunnnl/2023-AI-BASIC/blob/main/3%EC%9D%BC%EC%B0%A8%EA%B3%BC%EC%A0%9C.ipynb\" target=\"_parent\"><img src=\"https://colab.research.google.com/assets/colab-badge.svg\" alt=\"Open In Colab\"/></a>"
      ]
    },
    {
      "cell_type": "code",
      "execution_count": null,
      "metadata": {
        "colab": {
          "base_uri": "https://localhost:8080/"
        },
        "id": "2CEP2UngRuBj",
        "outputId": "1828271c-f4e8-4311-9a7d-710d44134335"
      },
      "outputs": [
        {
          "output_type": "stream",
          "name": "stdout",
          "text": [
            "shirt\n"
          ]
        }
      ],
      "source": [
        "# 결과값 : shirt\n",
        "a=\"Life is too short, you need python\"\n",
        "if \"wife\" in a :\n",
        "  print(\"wife\")\n",
        "elif \"python\" in a and \"you\" not in a:\n",
        "  print(\"python\")\n",
        "elif \"shirt\" not in a:\n",
        "  print(\"shirt\")\n",
        "elif \"need\" in a:\n",
        "  print(\"need\")\n",
        "else:\n",
        "  print(\"none\")"
      ]
    },
    {
      "cell_type": "code",
      "source": [
        "i=0\n",
        "while True:\n",
        "  if i>=5:\n",
        "    break\n",
        "  for _ in range(i+1):\n",
        "    print('*',end='')\n",
        "  i+=1\n",
        "  print()\n",
        "\n",
        "# 조금 더 간단한 코드\n",
        "i=0\n",
        "while True:\n",
        "  if i>=5:\n",
        "    break\n",
        "  print('*'*(i+1))\n",
        "  i+=1"
      ],
      "metadata": {
        "colab": {
          "base_uri": "https://localhost:8080/"
        },
        "id": "kr8JNWnqTYgn",
        "outputId": "35c82b3f-ccea-4215-8b77-e682b69d405a"
      },
      "execution_count": 2,
      "outputs": [
        {
          "output_type": "stream",
          "name": "stdout",
          "text": [
            "*\n",
            "**\n",
            "***\n",
            "****\n",
            "*****\n",
            "*\n",
            "**\n",
            "***\n",
            "****\n",
            "*****\n"
          ]
        }
      ]
    },
    {
      "cell_type": "code",
      "source": [
        "A=[70,60,55,75,95,90,80,80,85,100]\n",
        "sum=0\n",
        "\n",
        "for score in A:\n",
        "  sum+=score\n",
        "print(sum/10)"
      ],
      "metadata": {
        "colab": {
          "base_uri": "https://localhost:8080/"
        },
        "id": "hqQTm0mJSFww",
        "outputId": "4f5cc3b3-952c-4500-8c9c-a18119acd993"
      },
      "execution_count": null,
      "outputs": [
        {
          "output_type": "stream",
          "name": "stdout",
          "text": [
            "79.0\n"
          ]
        }
      ]
    }
  ]
}