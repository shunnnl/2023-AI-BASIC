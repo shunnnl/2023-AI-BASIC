{
  "nbformat": 4,
  "nbformat_minor": 0,
  "metadata": {
    "colab": {
      "provenance": [],
      "authorship_tag": "ABX9TyPqOIxhEy4I0P2QGBm/dvIq",
      "include_colab_link": true
    },
    "kernelspec": {
      "name": "python3",
      "display_name": "Python 3"
    },
    "language_info": {
      "name": "python"
    }
  },
  "cells": [
    {
      "cell_type": "markdown",
      "metadata": {
        "id": "view-in-github",
        "colab_type": "text"
      },
      "source": [
        "<a href=\"https://colab.research.google.com/github/shunnnl/2023-AI-BASIC/blob/main/numpy_exercise.ipynb\" target=\"_parent\"><img src=\"https://colab.research.google.com/assets/colab-badge.svg\" alt=\"Open In Colab\"/></a>"
      ]
    },
    {
      "cell_type": "markdown",
      "source": [
        "# 과제1"
      ],
      "metadata": {
        "id": "g-TaF7_WKgQ7"
      }
    },
    {
      "cell_type": "code",
      "execution_count": 3,
      "metadata": {
        "colab": {
          "base_uri": "https://localhost:8080/"
        },
        "id": "9OWV-ak3IogC",
        "outputId": "30147b0b-41d3-44de-d785-62a9750fb2c1"
      },
      "outputs": [
        {
          "output_type": "execute_result",
          "data": {
            "text/plain": [
              "8.382332347441762"
            ]
          },
          "metadata": {},
          "execution_count": 3
        }
      ],
      "source": [
        "# Q1.\n",
        "import numpy as np\n",
        "arr=np.arange(1,6)\n",
        "np.sum(np.sqrt(arr))"
      ]
    },
    {
      "cell_type": "code",
      "source": [
        "# Q2.\n",
        "arr2=np.array([np.sum(arr),np.mean(arr),np.min(arr),np.max(arr)])\n",
        "arr2"
      ],
      "metadata": {
        "colab": {
          "base_uri": "https://localhost:8080/"
        },
        "id": "-CDksHKOJLcS",
        "outputId": "1e31a22a-7f06-4c86-f6eb-6b160b3b8cca"
      },
      "execution_count": 4,
      "outputs": [
        {
          "output_type": "execute_result",
          "data": {
            "text/plain": [
              "array([15.,  3.,  1.,  5.])"
            ]
          },
          "metadata": {},
          "execution_count": 4
        }
      ]
    },
    {
      "cell_type": "code",
      "source": [
        "# Q3.\n",
        "arr2.shape"
      ],
      "metadata": {
        "colab": {
          "base_uri": "https://localhost:8080/"
        },
        "id": "3w4qb6GGKTK6",
        "outputId": "0753a9d9-dd99-4c2f-f596-0ced6bb5cd4d"
      },
      "execution_count": 5,
      "outputs": [
        {
          "output_type": "execute_result",
          "data": {
            "text/plain": [
              "(4,)"
            ]
          },
          "metadata": {},
          "execution_count": 5
        }
      ]
    },
    {
      "cell_type": "code",
      "source": [
        "arr3=arr2.reshape(4,1)\n",
        "arr3"
      ],
      "metadata": {
        "colab": {
          "base_uri": "https://localhost:8080/"
        },
        "id": "B1jaA7m9Kay2",
        "outputId": "c93da230-4366-4d3a-bb58-dd1313b9f240"
      },
      "execution_count": 11,
      "outputs": [
        {
          "output_type": "execute_result",
          "data": {
            "text/plain": [
              "array([[15.],\n",
              "       [ 3.],\n",
              "       [ 1.],\n",
              "       [ 5.]])"
            ]
          },
          "metadata": {},
          "execution_count": 11
        }
      ]
    },
    {
      "cell_type": "code",
      "source": [
        "# Q4.\n",
        "np.dot(arr2,arr3)"
      ],
      "metadata": {
        "colab": {
          "base_uri": "https://localhost:8080/"
        },
        "id": "aRFEiey8Ks92",
        "outputId": "c53262bb-4981-490b-d036-76658b849149"
      },
      "execution_count": 12,
      "outputs": [
        {
          "output_type": "execute_result",
          "data": {
            "text/plain": [
              "array([260.])"
            ]
          },
          "metadata": {},
          "execution_count": 12
        }
      ]
    },
    {
      "cell_type": "code",
      "source": [
        "arr3.dot(arr2.reshape(1,4))"
      ],
      "metadata": {
        "colab": {
          "base_uri": "https://localhost:8080/"
        },
        "id": "XxW9Blt5Lb7A",
        "outputId": "5c0f6c3e-586f-4251-c512-e0d8902552e4"
      },
      "execution_count": 14,
      "outputs": [
        {
          "output_type": "execute_result",
          "data": {
            "text/plain": [
              "array([[225.,  45.,  15.,  75.],\n",
              "       [ 45.,   9.,   3.,  15.],\n",
              "       [ 15.,   3.,   1.,   5.],\n",
              "       [ 75.,  15.,   5.,  25.]])"
            ]
          },
          "metadata": {},
          "execution_count": 14
        }
      ]
    },
    {
      "cell_type": "markdown",
      "source": [
        "# 과제2"
      ],
      "metadata": {
        "id": "ip3KwtwdMHVV"
      }
    },
    {
      "cell_type": "code",
      "source": [
        "# Q5.\n",
        "arr=np.arange(1,17)\n",
        "arr"
      ],
      "metadata": {
        "colab": {
          "base_uri": "https://localhost:8080/"
        },
        "id": "3RTHgNXWL5v4",
        "outputId": "69b7c1d1-c77f-416c-bdab-4ccad8b3a1d4"
      },
      "execution_count": 15,
      "outputs": [
        {
          "output_type": "execute_result",
          "data": {
            "text/plain": [
              "array([ 1,  2,  3,  4,  5,  6,  7,  8,  9, 10, 11, 12, 13, 14, 15, 16])"
            ]
          },
          "metadata": {},
          "execution_count": 15
        }
      ]
    },
    {
      "cell_type": "code",
      "source": [
        "# Q6.\n",
        "arr=arr.reshape(4,4)\n",
        "arr"
      ],
      "metadata": {
        "colab": {
          "base_uri": "https://localhost:8080/"
        },
        "id": "a_l-huTiMMEt",
        "outputId": "4b9e9f1c-5992-42d3-ab55-155d6b4f24a8"
      },
      "execution_count": 18,
      "outputs": [
        {
          "output_type": "execute_result",
          "data": {
            "text/plain": [
              "array([[ 1,  2,  3,  4],\n",
              "       [ 5,  6,  7,  8],\n",
              "       [ 9, 10, 11, 12],\n",
              "       [13, 14, 15, 16]])"
            ]
          },
          "metadata": {},
          "execution_count": 18
        }
      ]
    },
    {
      "cell_type": "code",
      "source": [
        "# Q7.\n",
        "arr2=arr[:2,1:]\n",
        "arr2"
      ],
      "metadata": {
        "colab": {
          "base_uri": "https://localhost:8080/"
        },
        "id": "VSbgM43DMQv2",
        "outputId": "5c6c4d40-a996-47ee-e3be-974af69904a4"
      },
      "execution_count": 19,
      "outputs": [
        {
          "output_type": "execute_result",
          "data": {
            "text/plain": [
              "array([[2, 3, 4],\n",
              "       [6, 7, 8]])"
            ]
          },
          "metadata": {},
          "execution_count": 19
        }
      ]
    },
    {
      "cell_type": "code",
      "source": [
        "arr3=arr[1:2,:3]\n",
        "arr3"
      ],
      "metadata": {
        "colab": {
          "base_uri": "https://localhost:8080/"
        },
        "id": "2xwHAbqiNA9Y",
        "outputId": "5c68beb4-8e96-4bb6-fd82-096bb94f8d5b"
      },
      "execution_count": 24,
      "outputs": [
        {
          "output_type": "execute_result",
          "data": {
            "text/plain": [
              "array([[5, 6, 7]])"
            ]
          },
          "metadata": {},
          "execution_count": 24
        }
      ]
    },
    {
      "cell_type": "code",
      "source": [
        "# Q8.\n",
        "arr3=arr3.reshape(3,1)\n",
        "arr3"
      ],
      "metadata": {
        "colab": {
          "base_uri": "https://localhost:8080/"
        },
        "id": "7MK8u87SNG7r",
        "outputId": "45b26135-1d3a-49ea-d90c-eaa759104386"
      },
      "execution_count": 34,
      "outputs": [
        {
          "output_type": "execute_result",
          "data": {
            "text/plain": [
              "array([[5],\n",
              "       [6],\n",
              "       [7]])"
            ]
          },
          "metadata": {},
          "execution_count": 34
        }
      ]
    },
    {
      "cell_type": "code",
      "source": [
        "# Q9.\n",
        "np.dot(arr2,arr3)"
      ],
      "metadata": {
        "colab": {
          "base_uri": "https://localhost:8080/"
        },
        "id": "o0TAGDYwNext",
        "outputId": "d0b20c9b-ce75-43b6-ccb3-9288efe28e5c"
      },
      "execution_count": 35,
      "outputs": [
        {
          "output_type": "execute_result",
          "data": {
            "text/plain": [
              "array([[ 56],\n",
              "       [128]])"
            ]
          },
          "metadata": {},
          "execution_count": 35
        }
      ]
    },
    {
      "cell_type": "markdown",
      "source": [
        "# 과제3"
      ],
      "metadata": {
        "id": "ugq_zgjNOeY6"
      }
    },
    {
      "cell_type": "code",
      "source": [
        "# Q10.\n",
        "# np.random.randint(시작범위, 끝범위, 개수) : int형으로 시작범위이상, 끝범위 미만으로 원하는 개수의 배열 생성\n",
        "\n",
        "import numpy as np\n",
        "arr=np.random.randint(3,7,4)\n",
        "arr"
      ],
      "metadata": {
        "colab": {
          "base_uri": "https://localhost:8080/"
        },
        "id": "AlQSnQMdNuX5",
        "outputId": "d4e3c7ab-26c3-4252-ec80-f7adef7326fa"
      },
      "execution_count": 5,
      "outputs": [
        {
          "output_type": "execute_result",
          "data": {
            "text/plain": [
              "array([3, 6, 6, 4])"
            ]
          },
          "metadata": {},
          "execution_count": 5
        }
      ]
    },
    {
      "cell_type": "code",
      "source": [
        "# Q11.\n",
        "arr.reshape(2,2)"
      ],
      "metadata": {
        "colab": {
          "base_uri": "https://localhost:8080/"
        },
        "id": "f-jJKiZAUtlp",
        "outputId": "95f7e2da-40c3-4daf-9cd6-f1cdf53d8d08"
      },
      "execution_count": 6,
      "outputs": [
        {
          "output_type": "execute_result",
          "data": {
            "text/plain": [
              "array([[3, 6],\n",
              "       [6, 4]])"
            ]
          },
          "metadata": {},
          "execution_count": 6
        }
      ]
    },
    {
      "cell_type": "code",
      "source": [
        "# Q12.\n",
        "num=int(input('로또번호를 몇 개 생성할까요?'))\n",
        "for i in range(num):\n",
        "  arr=np.random.randint(1,47,6)\n",
        "  print('{}.로또번호:{}'.format(i+1,np.sort(arr)))"
      ],
      "metadata": {
        "colab": {
          "base_uri": "https://localhost:8080/"
        },
        "id": "rbkWtuyCVHWf",
        "outputId": "bc52c231-9440-4fd1-a7e2-a3c76013ae38"
      },
      "execution_count": 8,
      "outputs": [
        {
          "output_type": "stream",
          "name": "stdout",
          "text": [
            "로또번호를 몇 개 생성할까요?3\n",
            "1.로또번호:[ 1  8 27 35 41 46]\n",
            "2.로또번호:[ 3 13 18 24 29 41]\n",
            "3.로또번호:[ 2  7 14 14 38 40]\n"
          ]
        }
      ]
    },
    {
      "cell_type": "code",
      "source": [
        "# Q13.\n",
        "today=np.array([9,12,17,21,40,42])\n",
        "\n",
        "num=int(input('로또번호를 몇 개 생성할까요?'))\n",
        "for i in range(num):\n",
        "  arr=np.random.randint(1,47,6)\n",
        "  print('{}.로또번호:{}'.format(i+1,np.sort(arr)))\n",
        "  if np.sum(arr)>np.sum(today):\n",
        "    print('이벤트 당첨, 오늘의 로또번호 합= {},당첨된 로도번호 합={}'.format(np.sum(today),np.sum(arr)))\n",
        "  "
      ],
      "metadata": {
        "colab": {
          "base_uri": "https://localhost:8080/"
        },
        "id": "loh7bM15VwXW",
        "outputId": "6b1e0e5a-cf40-4114-b890-4f1fa9c2930a"
      },
      "execution_count": 9,
      "outputs": [
        {
          "output_type": "stream",
          "name": "stdout",
          "text": [
            "로또번호를 몇 개 생성할까요?3\n",
            "1.로또번호:[ 8 27 33 41 42 43]\n",
            "이벤트 당첨, 오늘의 로또번호 합= 141,당첨된 로도번호 합=194\n",
            "2.로또번호:[ 3  5 22 28 32 46]\n",
            "3.로또번호:[11 18 34 35 37 39]\n",
            "이벤트 당첨, 오늘의 로또번호 합= 141,당첨된 로도번호 합=174\n"
          ]
        }
      ]
    },
    {
      "cell_type": "markdown",
      "source": [
        "# 과제4"
      ],
      "metadata": {
        "id": "dtM86UEEXMuT"
      }
    },
    {
      "cell_type": "code",
      "source": [
        "# Q14. 불리언 인덱스 활용\n",
        "# True, False로만 이루어진 것에서도 그 값에 대응되는 것만 불러올 수 있음.\n",
        "answer=np.array([3,2,1,4,4,3,4,4,3,3])\n",
        "for i in range(10):\n",
        "  arr=np.random.randint(1,6,10)\n",
        "  check=np.array(answer==arr)\n",
        "  print('{}.채점결과:{}, 점수:{}'.format(i+1,check,np.sum(check)))"
      ],
      "metadata": {
        "colab": {
          "base_uri": "https://localhost:8080/"
        },
        "id": "6GBmrZG5XGvM",
        "outputId": "a5c8a39f-2c7a-4f54-ae76-0443c6bfee66"
      },
      "execution_count": 16,
      "outputs": [
        {
          "output_type": "stream",
          "name": "stdout",
          "text": [
            "1.채점결과:[ True False False False False False  True False False False], 점수:2\n",
            "2.채점결과:[False False False False False  True False False False False], 점수:1\n",
            "3.채점결과:[ True  True False False False False False  True False False], 점수:3\n",
            "4.채점결과:[ True False False False False False False False False False], 점수:1\n",
            "5.채점결과:[False False False False False  True  True False False False], 점수:2\n",
            "6.채점결과:[False False False False False False False False False False], 점수:0\n",
            "7.채점결과:[ True False False False False  True False False False  True], 점수:3\n",
            "8.채점결과:[ True False False  True False  True  True False False False], 점수:4\n",
            "9.채점결과:[False False False False False False False False  True False], 점수:1\n",
            "10.채점결과:[False  True  True False False False  True False False False], 점수:3\n"
          ]
        }
      ]
    },
    {
      "cell_type": "code",
      "source": [],
      "metadata": {
        "id": "OUWSjctsZnuD"
      },
      "execution_count": null,
      "outputs": []
    }
  ]
}