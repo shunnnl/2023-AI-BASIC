{
  "nbformat": 4,
  "nbformat_minor": 0,
  "metadata": {
    "colab": {
      "provenance": [],
      "authorship_tag": "ABX9TyNl7sEhnT1pq5OPHAIHpsNk",
      "include_colab_link": true
    },
    "kernelspec": {
      "name": "python3",
      "display_name": "Python 3"
    },
    "language_info": {
      "name": "python"
    }
  },
  "cells": [
    {
      "cell_type": "markdown",
      "metadata": {
        "id": "view-in-github",
        "colab_type": "text"
      },
      "source": [
        "<a href=\"https://colab.research.google.com/github/shunnnl/2023-AI-BASIC/blob/main/numpy.ipynb\" target=\"_parent\"><img src=\"https://colab.research.google.com/assets/colab-badge.svg\" alt=\"Open In Colab\"/></a>"
      ]
    },
    {
      "cell_type": "markdown",
      "source": [
        "# 3.1.2 배열 만들기\n",
        "## ndarray\n",
        "\n",
        "*   메모리를 효율적으로 사용해 연산속도 빠름\n",
        "*   벡터 산술연산 기능 제공\n",
        "*   브로드캐스팅 기능 제공\n",
        "*   반복문 작성할 필요 없이 전체 데이터 배열에 대해 빠른 연산을 제공\n",
        "\n"
      ],
      "metadata": {
        "id": "fRyd8RmcQG8S"
      }
    },
    {
      "cell_type": "code",
      "execution_count": 4,
      "metadata": {
        "colab": {
          "base_uri": "https://localhost:8080/"
        },
        "id": "N7IIOqv0NDfd",
        "outputId": "3ec9896a-c7e0-4e32-9519-72c9f2780d8f"
      },
      "outputs": [
        {
          "output_type": "execute_result",
          "data": {
            "text/plain": [
              "array([1, 2, 3])"
            ]
          },
          "metadata": {},
          "execution_count": 4
        }
      ],
      "source": [
        "# numpy 사용\n",
        "# np.array(list)\n",
        "import numpy as np\n",
        "list1=[1,2,3]\n",
        "arr1=np.array(list1)\n",
        "arr1"
      ]
    },
    {
      "cell_type": "code",
      "source": [
        "# arr.tolist() : ndarray를 list로 반환\n",
        "arr1.tolist()"
      ],
      "metadata": {
        "colab": {
          "base_uri": "https://localhost:8080/"
        },
        "id": "Trwh4AiZOXJH",
        "outputId": "fbac90d4-2e4e-42e1-eee5-c52ebe255536"
      },
      "execution_count": 5,
      "outputs": [
        {
          "output_type": "execute_result",
          "data": {
            "text/plain": [
              "[1, 2, 3]"
            ]
          },
          "metadata": {},
          "execution_count": 5
        }
      ]
    },
    {
      "cell_type": "code",
      "source": [
        "# np.zeros(개수) : 0으로 채워진 배열 생성\n",
        "np.zeros(5)"
      ],
      "metadata": {
        "colab": {
          "base_uri": "https://localhost:8080/"
        },
        "id": "DwcOK76iO4f3",
        "outputId": "c41c48ec-2bce-4f25-a295-204d6d55ea26"
      },
      "execution_count": 6,
      "outputs": [
        {
          "output_type": "execute_result",
          "data": {
            "text/plain": [
              "array([0., 0., 0., 0., 0.])"
            ]
          },
          "metadata": {},
          "execution_count": 6
        }
      ]
    },
    {
      "cell_type": "code",
      "source": [
        "np.zeros((2,3))"
      ],
      "metadata": {
        "colab": {
          "base_uri": "https://localhost:8080/"
        },
        "id": "ZFPVCwJlO9X3",
        "outputId": "7294cafc-fe6c-46e0-ae72-b9807bd5580c"
      },
      "execution_count": 8,
      "outputs": [
        {
          "output_type": "execute_result",
          "data": {
            "text/plain": [
              "array([[0., 0., 0.],\n",
              "       [0., 0., 0.]])"
            ]
          },
          "metadata": {},
          "execution_count": 8
        }
      ]
    },
    {
      "cell_type": "code",
      "source": [
        "# np.ones(개수) : 1로 채워진 배열 생성\n",
        "np.ones(7)"
      ],
      "metadata": {
        "colab": {
          "base_uri": "https://localhost:8080/"
        },
        "id": "UHzof6eNPDiC",
        "outputId": "685bf8c1-68a6-4a03-8a55-929fcada9fad"
      },
      "execution_count": 22,
      "outputs": [
        {
          "output_type": "execute_result",
          "data": {
            "text/plain": [
              "array([1., 1., 1., 1., 1., 1., 1.])"
            ]
          },
          "metadata": {},
          "execution_count": 22
        }
      ]
    },
    {
      "cell_type": "code",
      "source": [
        "# np.empty(개수) : 쓰레기값으로 채워진 배열 생성\n",
        "np.empty(9)"
      ],
      "metadata": {
        "colab": {
          "base_uri": "https://localhost:8080/"
        },
        "id": "Cg1NGT_EPOaQ",
        "outputId": "16697133-83a4-4aa4-ac63-16553aaf3112"
      },
      "execution_count": 11,
      "outputs": [
        {
          "output_type": "execute_result",
          "data": {
            "text/plain": [
              "array([2.07350182e-316, 0.00000000e+000, 4.52176622e+217, 1.13469604e-153,\n",
              "       4.57863245e+257, 1.23769929e+224, 2.52323784e+180, 1.15313936e+214,\n",
              "       5.53353523e-322])"
            ]
          },
          "metadata": {},
          "execution_count": 11
        }
      ]
    },
    {
      "cell_type": "code",
      "source": [
        "# np.arange() : 수의 순차적인 증감 이용하여 배열 생성\n",
        "np.arange(10)"
      ],
      "metadata": {
        "colab": {
          "base_uri": "https://localhost:8080/"
        },
        "id": "Kskt-R9LPmZM",
        "outputId": "7c6b2fa7-6350-4852-be32-74c606c3ab64"
      },
      "execution_count": 12,
      "outputs": [
        {
          "output_type": "execute_result",
          "data": {
            "text/plain": [
              "array([0, 1, 2, 3, 4, 5, 6, 7, 8, 9])"
            ]
          },
          "metadata": {},
          "execution_count": 12
        }
      ]
    },
    {
      "cell_type": "code",
      "source": [
        "np.arange(10,22,2)"
      ],
      "metadata": {
        "colab": {
          "base_uri": "https://localhost:8080/"
        },
        "id": "NI2G5vGqP1GM",
        "outputId": "6e0b668e-2e49-4a10-ad42-e8722ca302da"
      },
      "execution_count": 15,
      "outputs": [
        {
          "output_type": "execute_result",
          "data": {
            "text/plain": [
              "array([10, 12, 14, 16, 18, 20])"
            ]
          },
          "metadata": {},
          "execution_count": 15
        }
      ]
    },
    {
      "cell_type": "code",
      "source": [
        "# np.random.rand() : 다양한 종류의 확률분포로부터 랜덤값을 생성 / 다차원 배열 생성시 () 필요없음!!!\n",
        "np.random.rand(2,3)"
      ],
      "metadata": {
        "colab": {
          "base_uri": "https://localhost:8080/"
        },
        "id": "GfyJkRvpP2xw",
        "outputId": "a9d04a84-296c-4199-9cf3-9d48979fa952"
      },
      "execution_count": 20,
      "outputs": [
        {
          "output_type": "execute_result",
          "data": {
            "text/plain": [
              "array([[0.78057098, 0.52462241, 0.77880952],\n",
              "       [0.69317014, 0.40903342, 0.73584354]])"
            ]
          },
          "metadata": {},
          "execution_count": 20
        }
      ]
    },
    {
      "cell_type": "code",
      "source": [
        "# np.reshape()\n",
        "arr2=np.arange(16)\n",
        "arr2.reshape(4,4)\n",
        "arr2.reshape(2,2,4)"
      ],
      "metadata": {
        "colab": {
          "base_uri": "https://localhost:8080/"
        },
        "id": "T4nSAlV2QqPE",
        "outputId": "b1d04840-a845-4689-e602-6105f36f8b31"
      },
      "execution_count": 25,
      "outputs": [
        {
          "output_type": "execute_result",
          "data": {
            "text/plain": [
              "array([[[ 0,  1,  2,  3],\n",
              "        [ 4,  5,  6,  7]],\n",
              "\n",
              "       [[ 8,  9, 10, 11],\n",
              "        [12, 13, 14, 15]]])"
            ]
          },
          "metadata": {},
          "execution_count": 25
        }
      ]
    },
    {
      "cell_type": "code",
      "source": [
        "# arr.shape : 배열의 형태 확인\n",
        "arr=np.arange(16)\n",
        "arr.shape"
      ],
      "metadata": {
        "colab": {
          "base_uri": "https://localhost:8080/"
        },
        "id": "3sxad5rWRF5Y",
        "outputId": "2b76a74b-0b1c-4f03-86b3-897607049cb9"
      },
      "execution_count": 26,
      "outputs": [
        {
          "output_type": "execute_result",
          "data": {
            "text/plain": [
              "(16,)"
            ]
          },
          "metadata": {},
          "execution_count": 26
        }
      ]
    },
    {
      "cell_type": "code",
      "source": [
        "# arr.dtype : 배열의 데이터타입 확인\n",
        "arr.dtype"
      ],
      "metadata": {
        "colab": {
          "base_uri": "https://localhost:8080/"
        },
        "id": "X92RH5RdRxuH",
        "outputId": "3d4ff846-3cbc-4d75-dc54-43b3dc041f88"
      },
      "execution_count": 27,
      "outputs": [
        {
          "output_type": "execute_result",
          "data": {
            "text/plain": [
              "dtype('int64')"
            ]
          },
          "metadata": {},
          "execution_count": 27
        }
      ]
    },
    {
      "cell_type": "code",
      "source": [
        "# arr.astype() : 배열의 데이터타입 변경\n",
        "arr.astype(float)"
      ],
      "metadata": {
        "colab": {
          "base_uri": "https://localhost:8080/"
        },
        "id": "vhXFky1ZRznv",
        "outputId": "1ee8ac47-c33e-4321-aa2e-621b1c24fdd3"
      },
      "execution_count": 28,
      "outputs": [
        {
          "output_type": "execute_result",
          "data": {
            "text/plain": [
              "array([ 0.,  1.,  2.,  3.,  4.,  5.,  6.,  7.,  8.,  9., 10., 11., 12.,\n",
              "       13., 14., 15.])"
            ]
          },
          "metadata": {},
          "execution_count": 28
        }
      ]
    },
    {
      "cell_type": "code",
      "source": [
        "# np.string_ : 문자열 type\n",
        "arr.astype(np.string_)"
      ],
      "metadata": {
        "colab": {
          "base_uri": "https://localhost:8080/"
        },
        "id": "MQEbLR-GR2SI",
        "outputId": "c4d4fb0d-ea84-4f62-813d-58db14529648"
      },
      "execution_count": 29,
      "outputs": [
        {
          "output_type": "execute_result",
          "data": {
            "text/plain": [
              "array([b'0', b'1', b'2', b'3', b'4', b'5', b'6', b'7', b'8', b'9', b'10',\n",
              "       b'11', b'12', b'13', b'14', b'15'], dtype='|S21')"
            ]
          },
          "metadata": {},
          "execution_count": 29
        }
      ]
    },
    {
      "cell_type": "code",
      "source": [
        "# arr.ndim : 배열의 차원\n",
        "arr.ndim"
      ],
      "metadata": {
        "colab": {
          "base_uri": "https://localhost:8080/"
        },
        "id": "9iAppunlSTZ9",
        "outputId": "824b23cf-32a0-403e-b21a-c5aadb4dad17"
      },
      "execution_count": 33,
      "outputs": [
        {
          "output_type": "execute_result",
          "data": {
            "text/plain": [
              "1"
            ]
          },
          "metadata": {},
          "execution_count": 33
        }
      ]
    },
    {
      "cell_type": "code",
      "source": [
        "arr1=np.array([1,2,3],dtype=np.float64)\n",
        "arr2=np.array([[1,2,3],[4,5,6]],dtype=np.float32)\n",
        "arr1.dtype,arr2.dtype"
      ],
      "metadata": {
        "colab": {
          "base_uri": "https://localhost:8080/"
        },
        "id": "lqVk33ulSfq5",
        "outputId": "83696ff0-d6ef-4798-c5ee-8a1c2eb43dd7"
      },
      "execution_count": 36,
      "outputs": [
        {
          "output_type": "execute_result",
          "data": {
            "text/plain": [
              "(dtype('float64'), dtype('float32'))"
            ]
          },
          "metadata": {},
          "execution_count": 36
        }
      ]
    },
    {
      "cell_type": "markdown",
      "source": [
        "# 3.1.3 선택\n",
        "## 기본 인덱스"
      ],
      "metadata": {
        "id": "6UQZpkZHTt7t"
      }
    },
    {
      "cell_type": "code",
      "source": [
        "import numpy as np\n",
        "arr=np.arange(16)\n",
        "arr"
      ],
      "metadata": {
        "colab": {
          "base_uri": "https://localhost:8080/"
        },
        "id": "gS0cuYKsS2ab",
        "outputId": "05f38db5-1a69-40c0-8284-0083837e5d46"
      },
      "execution_count": 40,
      "outputs": [
        {
          "output_type": "execute_result",
          "data": {
            "text/plain": [
              "array([ 0,  1,  2,  3,  4,  5,  6,  7,  8,  9, 10, 11, 12, 13, 14, 15])"
            ]
          },
          "metadata": {},
          "execution_count": 40
        }
      ]
    },
    {
      "cell_type": "code",
      "source": [
        "arr[-1]"
      ],
      "metadata": {
        "colab": {
          "base_uri": "https://localhost:8080/"
        },
        "id": "7IPpPB4cUGB-",
        "outputId": "0bc88f3d-a1db-4ac0-aac9-2b1de5801524"
      },
      "execution_count": 41,
      "outputs": [
        {
          "output_type": "execute_result",
          "data": {
            "text/plain": [
              "15"
            ]
          },
          "metadata": {},
          "execution_count": 41
        }
      ]
    },
    {
      "cell_type": "code",
      "source": [
        "arr[5:8]"
      ],
      "metadata": {
        "colab": {
          "base_uri": "https://localhost:8080/"
        },
        "id": "W9y6PThoUHL7",
        "outputId": "afa8eb98-71dd-41e1-b344-d6e4ded1e44d"
      },
      "execution_count": 42,
      "outputs": [
        {
          "output_type": "execute_result",
          "data": {
            "text/plain": [
              "array([5, 6, 7])"
            ]
          },
          "metadata": {},
          "execution_count": 42
        }
      ]
    },
    {
      "cell_type": "code",
      "source": [
        "arr[10]=100\n",
        "arr[6:8]=[76,77]\n",
        "arr"
      ],
      "metadata": {
        "colab": {
          "base_uri": "https://localhost:8080/"
        },
        "id": "qB2xk1hLUQ_o",
        "outputId": "ccd2af07-afc5-48ad-e1be-01ad62210cec"
      },
      "execution_count": 44,
      "outputs": [
        {
          "output_type": "execute_result",
          "data": {
            "text/plain": [
              "array([  0,   1,   2,   3,   4,   5,  76,  77,   8,   9, 100,  11,  12,\n",
              "        13,  14,  15])"
            ]
          },
          "metadata": {},
          "execution_count": 44
        }
      ]
    },
    {
      "cell_type": "code",
      "source": [
        "arr2=np.arange(16).reshape(4,4)\n",
        "arr2"
      ],
      "metadata": {
        "colab": {
          "base_uri": "https://localhost:8080/"
        },
        "id": "DmU6877QUSrt",
        "outputId": "09bbc931-1683-4196-fcd5-f35171d1702d"
      },
      "execution_count": 46,
      "outputs": [
        {
          "output_type": "execute_result",
          "data": {
            "text/plain": [
              "array([[ 0,  1,  2,  3],\n",
              "       [ 4,  5,  6,  7],\n",
              "       [ 8,  9, 10, 11],\n",
              "       [12, 13, 14, 15]])"
            ]
          },
          "metadata": {},
          "execution_count": 46
        }
      ]
    },
    {
      "cell_type": "code",
      "source": [
        "arr2[1]"
      ],
      "metadata": {
        "colab": {
          "base_uri": "https://localhost:8080/"
        },
        "id": "FdgF-tkzUfNf",
        "outputId": "c06400a3-c173-4bd5-e2ae-e55f75f2d0f8"
      },
      "execution_count": 47,
      "outputs": [
        {
          "output_type": "execute_result",
          "data": {
            "text/plain": [
              "array([4, 5, 6, 7])"
            ]
          },
          "metadata": {},
          "execution_count": 47
        }
      ]
    },
    {
      "cell_type": "code",
      "source": [
        "arr2[1,2]=100\n",
        "arr2"
      ],
      "metadata": {
        "colab": {
          "base_uri": "https://localhost:8080/"
        },
        "id": "iKT6mZRYUjF9",
        "outputId": "92b81ede-4964-4ba6-ab14-5c75cc59319b"
      },
      "execution_count": 50,
      "outputs": [
        {
          "output_type": "execute_result",
          "data": {
            "text/plain": [
              "array([[  0,   1,   2,   3],\n",
              "       [  4,   5, 100,   7],\n",
              "       [  8,   9,  10,  11],\n",
              "       [ 12,  13,  14,  15]])"
            ]
          },
          "metadata": {},
          "execution_count": 50
        }
      ]
    },
    {
      "cell_type": "code",
      "source": [
        "arr2[:3]"
      ],
      "metadata": {
        "colab": {
          "base_uri": "https://localhost:8080/"
        },
        "id": "pT0X1NQSUkGN",
        "outputId": "ed2b3705-3533-46d3-f0d3-211e0d78e000"
      },
      "execution_count": 53,
      "outputs": [
        {
          "output_type": "execute_result",
          "data": {
            "text/plain": [
              "array([[  0,   1,   2,   3],\n",
              "       [  4,   5, 100,   7],\n",
              "       [  8,   9,  10,  11]])"
            ]
          },
          "metadata": {},
          "execution_count": 53
        }
      ]
    },
    {
      "cell_type": "code",
      "source": [
        "arr2[:2,2:]"
      ],
      "metadata": {
        "colab": {
          "base_uri": "https://localhost:8080/"
        },
        "id": "YUvkum_HUpWt",
        "outputId": "7a5463d9-3a09-49d4-ca8b-f3d4e66afb31"
      },
      "execution_count": 55,
      "outputs": [
        {
          "output_type": "execute_result",
          "data": {
            "text/plain": [
              "array([[  2,   3],\n",
              "       [100,   7]])"
            ]
          },
          "metadata": {},
          "execution_count": 55
        }
      ]
    },
    {
      "cell_type": "markdown",
      "source": [
        "## 불리언 인덱스"
      ],
      "metadata": {
        "id": "4dtMQmkbU7I5"
      }
    },
    {
      "cell_type": "code",
      "source": [
        "scores=[80,90,70,65,85,95,90,80,75,80]\n",
        "score_arr=np.array(scores)\n",
        "score_arr"
      ],
      "metadata": {
        "colab": {
          "base_uri": "https://localhost:8080/"
        },
        "id": "CBgnICPQUz-J",
        "outputId": "ba838c4f-8205-42af-b089-2e1bd184ff8c"
      },
      "execution_count": 62,
      "outputs": [
        {
          "output_type": "execute_result",
          "data": {
            "text/plain": [
              "array([80, 90, 70, 65, 85, 95, 90, 80, 75, 80])"
            ]
          },
          "metadata": {},
          "execution_count": 62
        }
      ]
    },
    {
      "cell_type": "code",
      "source": [
        "score_arr>=90"
      ],
      "metadata": {
        "colab": {
          "base_uri": "https://localhost:8080/"
        },
        "id": "uwflIA9wVIpk",
        "outputId": "cf50d280-5382-434d-de2f-e02cfa6ffd73"
      },
      "execution_count": 63,
      "outputs": [
        {
          "output_type": "execute_result",
          "data": {
            "text/plain": [
              "array([False,  True, False, False, False,  True,  True, False, False,\n",
              "       False])"
            ]
          },
          "metadata": {},
          "execution_count": 63
        }
      ]
    },
    {
      "cell_type": "code",
      "source": [
        "score_arr[score_arr>=90]=999\n",
        "score_arr"
      ],
      "metadata": {
        "colab": {
          "base_uri": "https://localhost:8080/"
        },
        "id": "JVqEJkNUVLrk",
        "outputId": "405deca1-344b-4037-abcc-de4b0a4d11ae"
      },
      "execution_count": 64,
      "outputs": [
        {
          "output_type": "execute_result",
          "data": {
            "text/plain": [
              "array([ 80, 999,  70,  65,  85, 999, 999,  80,  75,  80])"
            ]
          },
          "metadata": {},
          "execution_count": 64
        }
      ]
    },
    {
      "cell_type": "code",
      "source": [
        "colors=np.array(['red','blue','green','yellow','red','red'])\n",
        "data=np.random.rand(6,4)\n",
        "data"
      ],
      "metadata": {
        "colab": {
          "base_uri": "https://localhost:8080/"
        },
        "id": "pKKEvzwb2M0K",
        "outputId": "82076c90-ba8f-4961-fe27-4f888e0dbb0d"
      },
      "execution_count": 67,
      "outputs": [
        {
          "output_type": "execute_result",
          "data": {
            "text/plain": [
              "array([[0.76352404, 0.94520985, 0.45214329, 0.9268448 ],\n",
              "       [0.16572794, 0.21990688, 0.77690963, 0.80358333],\n",
              "       [0.690653  , 0.17819777, 0.11450953, 0.8951733 ],\n",
              "       [0.34110996, 0.65119753, 0.10283454, 0.56170398],\n",
              "       [0.1231797 , 0.56041804, 0.94648014, 0.2031165 ],\n",
              "       [0.6305246 , 0.90698232, 0.14682772, 0.55880663]])"
            ]
          },
          "metadata": {},
          "execution_count": 67
        }
      ]
    },
    {
      "cell_type": "code",
      "source": [
        "colors=='red'"
      ],
      "metadata": {
        "colab": {
          "base_uri": "https://localhost:8080/"
        },
        "id": "UQzX4JYh2mpz",
        "outputId": "b50253de-4547-44f4-d3d8-05a9f6e4c9f2"
      },
      "execution_count": 68,
      "outputs": [
        {
          "output_type": "execute_result",
          "data": {
            "text/plain": [
              "array([ True, False, False, False,  True,  True])"
            ]
          },
          "metadata": {},
          "execution_count": 68
        }
      ]
    },
    {
      "cell_type": "code",
      "source": [
        "data[colors=='red']"
      ],
      "metadata": {
        "colab": {
          "base_uri": "https://localhost:8080/"
        },
        "id": "3iCEK9zj244b",
        "outputId": "60a5b722-73db-4e1b-f87b-4a202adf6228"
      },
      "execution_count": 69,
      "outputs": [
        {
          "output_type": "execute_result",
          "data": {
            "text/plain": [
              "array([[0.76352404, 0.94520985, 0.45214329, 0.9268448 ],\n",
              "       [0.1231797 , 0.56041804, 0.94648014, 0.2031165 ],\n",
              "       [0.6305246 , 0.90698232, 0.14682772, 0.55880663]])"
            ]
          },
          "metadata": {},
          "execution_count": 69
        }
      ]
    },
    {
      "cell_type": "code",
      "source": [
        "data[colors=='red',2:]"
      ],
      "metadata": {
        "colab": {
          "base_uri": "https://localhost:8080/"
        },
        "id": "J32IuGLi28fV",
        "outputId": "bd92d77c-87f5-4398-cc87-dbf6c94a8c7e"
      },
      "execution_count": 70,
      "outputs": [
        {
          "output_type": "execute_result",
          "data": {
            "text/plain": [
              "array([[0.45214329, 0.9268448 ],\n",
              "       [0.94648014, 0.2031165 ],\n",
              "       [0.14682772, 0.55880663]])"
            ]
          },
          "metadata": {},
          "execution_count": 70
        }
      ]
    },
    {
      "cell_type": "code",
      "source": [
        "data[colors=='red',3]"
      ],
      "metadata": {
        "colab": {
          "base_uri": "https://localhost:8080/"
        },
        "id": "kjOh5LkW3gjm",
        "outputId": "0cfb7afa-aeae-48b1-eb4a-f42241117994"
      },
      "execution_count": 71,
      "outputs": [
        {
          "output_type": "execute_result",
          "data": {
            "text/plain": [
              "array([0.9268448 , 0.2031165 , 0.55880663])"
            ]
          },
          "metadata": {},
          "execution_count": 71
        }
      ]
    },
    {
      "cell_type": "code",
      "source": [
        "data[(colors=='yellow')|(colors==\"blue\")]=0\n",
        "data"
      ],
      "metadata": {
        "colab": {
          "base_uri": "https://localhost:8080/"
        },
        "id": "rtFzxcQ53opK",
        "outputId": "de4b3c5e-807e-4d53-9f18-a68d562311ed"
      },
      "execution_count": 73,
      "outputs": [
        {
          "output_type": "execute_result",
          "data": {
            "text/plain": [
              "array([[0.76352404, 0.94520985, 0.45214329, 0.9268448 ],\n",
              "       [0.        , 0.        , 0.        , 0.        ],\n",
              "       [0.690653  , 0.17819777, 0.11450953, 0.8951733 ],\n",
              "       [0.        , 0.        , 0.        , 0.        ],\n",
              "       [0.1231797 , 0.56041804, 0.94648014, 0.2031165 ],\n",
              "       [0.6305246 , 0.90698232, 0.14682772, 0.55880663]])"
            ]
          },
          "metadata": {},
          "execution_count": 73
        }
      ]
    },
    {
      "cell_type": "markdown",
      "source": [
        "## (참고) 팬시 색인\n",
        "\n",
        "\n",
        "*   fanct indexing\n",
        "*   정수 리스트를 인덱스로 사용하는 방식\n",
        "\n"
      ],
      "metadata": {
        "id": "sjAi-I8h4VCw"
      }
    },
    {
      "cell_type": "code",
      "source": [
        "arr=np.arange(32).reshape(8,4)\n",
        "arr"
      ],
      "metadata": {
        "colab": {
          "base_uri": "https://localhost:8080/"
        },
        "id": "nP_VWIOv4d_r",
        "outputId": "12488567-1d80-471a-d226-36abbf927fcd"
      },
      "execution_count": 81,
      "outputs": [
        {
          "output_type": "execute_result",
          "data": {
            "text/plain": [
              "array([[ 0,  1,  2,  3],\n",
              "       [ 4,  5,  6,  7],\n",
              "       [ 8,  9, 10, 11],\n",
              "       [12, 13, 14, 15],\n",
              "       [16, 17, 18, 19],\n",
              "       [20, 21, 22, 23],\n",
              "       [24, 25, 26, 27],\n",
              "       [28, 29, 30, 31]])"
            ]
          },
          "metadata": {},
          "execution_count": 81
        }
      ]
    },
    {
      "cell_type": "code",
      "source": [
        "arr[[2,6]]"
      ],
      "metadata": {
        "colab": {
          "base_uri": "https://localhost:8080/"
        },
        "id": "v0xwvMqj4pS2",
        "outputId": "0dfc8f06-66a5-4137-d433-40919604973e"
      },
      "execution_count": 83,
      "outputs": [
        {
          "output_type": "execute_result",
          "data": {
            "text/plain": [
              "array([[ 8,  9, 10, 11],\n",
              "       [24, 25, 26, 27]])"
            ]
          },
          "metadata": {},
          "execution_count": 83
        }
      ]
    },
    {
      "cell_type": "code",
      "source": [
        "arr[[2,6],[1,3]]"
      ],
      "metadata": {
        "colab": {
          "base_uri": "https://localhost:8080/"
        },
        "id": "ACGfL1Hf5PgT",
        "outputId": "dfeed906-d200-495e-825a-f74b90fc9d9f"
      },
      "execution_count": 84,
      "outputs": [
        {
          "output_type": "execute_result",
          "data": {
            "text/plain": [
              "array([ 9, 27])"
            ]
          },
          "metadata": {},
          "execution_count": 84
        }
      ]
    },
    {
      "cell_type": "code",
      "source": [
        "# arr.take(index) : index에 있는 값을 반환\n",
        "arr=np.arange(10)\n",
        "index=[5,3,2,6]\n",
        "arr.take(index)"
      ],
      "metadata": {
        "colab": {
          "base_uri": "https://localhost:8080/"
        },
        "id": "37j4wqCU5gBp",
        "outputId": "8ed75254-8033-4eb0-b5c1-ead316eb3e69"
      },
      "execution_count": 85,
      "outputs": [
        {
          "output_type": "execute_result",
          "data": {
            "text/plain": [
              "array([5, 3, 2, 6])"
            ]
          },
          "metadata": {},
          "execution_count": 85
        }
      ]
    },
    {
      "cell_type": "code",
      "source": [
        "# arr.put(index,value) : index에 있는 값을 value로 치환\n",
        "arr.put(index,100)\n",
        "arr"
      ],
      "metadata": {
        "colab": {
          "base_uri": "https://localhost:8080/"
        },
        "id": "fXsomq235rGV",
        "outputId": "e1fde9eb-d3cf-43a5-e3e5-c0d562cfc604"
      },
      "execution_count": 86,
      "outputs": [
        {
          "output_type": "execute_result",
          "data": {
            "text/plain": [
              "array([  0,   1, 100, 100,   4, 100, 100,   7,   8,   9])"
            ]
          },
          "metadata": {},
          "execution_count": 86
        }
      ]
    },
    {
      "cell_type": "code",
      "source": [
        "arr.put(index,[50,51,52,53])\n",
        "arr"
      ],
      "metadata": {
        "colab": {
          "base_uri": "https://localhost:8080/"
        },
        "id": "a9gqqYDA567V",
        "outputId": "d3fe10be-1c81-468d-d343-ad6275955823"
      },
      "execution_count": 87,
      "outputs": [
        {
          "output_type": "execute_result",
          "data": {
            "text/plain": [
              "array([ 0,  1, 52, 51,  4, 50, 53,  7,  8,  9])"
            ]
          },
          "metadata": {},
          "execution_count": 87
        }
      ]
    },
    {
      "cell_type": "markdown",
      "source": [
        "# 3.1.4 연산\n",
        "## 기본 사칙 연산\n",
        "\n",
        "\n",
        "*   '+' : list와 array를 비교했을 때, array는 값을 더해주는 것이고 list는 자료형을 이어나가는 용도\n",
        "*   '*' : list와 array를 비교했을 때, array는 값을 곱해주는 것이도, list는 같은 자료형을 반복하여 이어나가는 용도\n",
        "\n"
      ],
      "metadata": {
        "id": "a8vL6h5y6FA-"
      }
    },
    {
      "cell_type": "code",
      "source": [
        "arr=np.arange(1,5)\n",
        "arr"
      ],
      "metadata": {
        "colab": {
          "base_uri": "https://localhost:8080/"
        },
        "id": "SMSLGNJU6G0c",
        "outputId": "4e14efc3-1a7c-4215-b3fb-61b4fa9836a1"
      },
      "execution_count": 88,
      "outputs": [
        {
          "output_type": "execute_result",
          "data": {
            "text/plain": [
              "array([1, 2, 3, 4])"
            ]
          },
          "metadata": {},
          "execution_count": 88
        }
      ]
    },
    {
      "cell_type": "code",
      "source": [
        "arr+2"
      ],
      "metadata": {
        "colab": {
          "base_uri": "https://localhost:8080/"
        },
        "id": "8nL8j6qv6PZR",
        "outputId": "ea373758-e366-49ab-a1f4-ef7b26c7dcd3"
      },
      "execution_count": 89,
      "outputs": [
        {
          "output_type": "execute_result",
          "data": {
            "text/plain": [
              "array([3, 4, 5, 6])"
            ]
          },
          "metadata": {},
          "execution_count": 89
        }
      ]
    },
    {
      "cell_type": "code",
      "source": [
        "arr*2"
      ],
      "metadata": {
        "colab": {
          "base_uri": "https://localhost:8080/"
        },
        "id": "Ky3_VKX36QwZ",
        "outputId": "2e7a93fa-5f60-4249-8cfe-3145506f8ed0"
      },
      "execution_count": 90,
      "outputs": [
        {
          "output_type": "execute_result",
          "data": {
            "text/plain": [
              "array([2, 4, 6, 8])"
            ]
          },
          "metadata": {},
          "execution_count": 90
        }
      ]
    },
    {
      "cell_type": "code",
      "source": [
        "list=[1,2,3,4]\n",
        "list"
      ],
      "metadata": {
        "colab": {
          "base_uri": "https://localhost:8080/"
        },
        "id": "4QZ44Ma-6Rpf",
        "outputId": "f096186b-ca28-4a1c-a57b-bde6fb1078b0"
      },
      "execution_count": 92,
      "outputs": [
        {
          "output_type": "execute_result",
          "data": {
            "text/plain": [
              "[1, 2, 3, 4]"
            ]
          },
          "metadata": {},
          "execution_count": 92
        }
      ]
    },
    {
      "cell_type": "code",
      "source": [
        "list*2"
      ],
      "metadata": {
        "colab": {
          "base_uri": "https://localhost:8080/"
        },
        "id": "OzLNZv9x6Svq",
        "outputId": "ca105a18-cd80-4a14-cea7-7e681ba9bdb5"
      },
      "execution_count": 93,
      "outputs": [
        {
          "output_type": "execute_result",
          "data": {
            "text/plain": [
              "[1, 2, 3, 4, 1, 2, 3, 4]"
            ]
          },
          "metadata": {},
          "execution_count": 93
        }
      ]
    },
    {
      "cell_type": "code",
      "source": [
        "arr1=np.arange(5,9)\n",
        "arr1"
      ],
      "metadata": {
        "colab": {
          "base_uri": "https://localhost:8080/"
        },
        "id": "ksbkax_56UqZ",
        "outputId": "138a2aaa-7b7d-4e94-f725-13a1576558b5"
      },
      "execution_count": 94,
      "outputs": [
        {
          "output_type": "execute_result",
          "data": {
            "text/plain": [
              "array([5, 6, 7, 8])"
            ]
          },
          "metadata": {},
          "execution_count": 94
        }
      ]
    },
    {
      "cell_type": "code",
      "source": [
        "arr1+arr"
      ],
      "metadata": {
        "colab": {
          "base_uri": "https://localhost:8080/"
        },
        "id": "Quz2DPfY6aFM",
        "outputId": "13886306-b69c-4de8-91b7-b7a0ae119eba"
      },
      "execution_count": 95,
      "outputs": [
        {
          "output_type": "execute_result",
          "data": {
            "text/plain": [
              "array([ 6,  8, 10, 12])"
            ]
          },
          "metadata": {},
          "execution_count": 95
        }
      ]
    },
    {
      "cell_type": "code",
      "source": [
        "list1=[5,6,7,8]\n",
        "list1+list1"
      ],
      "metadata": {
        "colab": {
          "base_uri": "https://localhost:8080/"
        },
        "id": "rQdqFyze6bTq",
        "outputId": "f9c4423d-6139-491d-a4d1-d0ea63ef45c4"
      },
      "execution_count": 96,
      "outputs": [
        {
          "output_type": "execute_result",
          "data": {
            "text/plain": [
              "[5, 6, 7, 8, 5, 6, 7, 8]"
            ]
          },
          "metadata": {},
          "execution_count": 96
        }
      ]
    },
    {
      "cell_type": "markdown",
      "source": [
        "## (참고) 브로드캐스팅\n",
        "\n",
        "\n",
        "*  shape이 다른 다차원배열 또는 스칼라 값 사이에서 연산이 가능\n",
        "\n"
      ],
      "metadata": {
        "id": "j0GEBlqE65Bh"
      }
    },
    {
      "cell_type": "code",
      "source": [
        "np.arange(3)+5"
      ],
      "metadata": {
        "colab": {
          "base_uri": "https://localhost:8080/"
        },
        "id": "mkPzmY616f71",
        "outputId": "f53999fb-648b-4918-92a3-71954caf80ae"
      },
      "execution_count": 97,
      "outputs": [
        {
          "output_type": "execute_result",
          "data": {
            "text/plain": [
              "array([5, 6, 7])"
            ]
          },
          "metadata": {},
          "execution_count": 97
        }
      ]
    },
    {
      "cell_type": "code",
      "source": [
        "np.ones((3,3))+np.arange(3)"
      ],
      "metadata": {
        "colab": {
          "base_uri": "https://localhost:8080/"
        },
        "id": "4tFEiMOu8azZ",
        "outputId": "5eaf72ef-5b2d-4528-8766-130ebabf811b"
      },
      "execution_count": 98,
      "outputs": [
        {
          "output_type": "execute_result",
          "data": {
            "text/plain": [
              "array([[1., 2., 3.],\n",
              "       [1., 2., 3.],\n",
              "       [1., 2., 3.]])"
            ]
          },
          "metadata": {},
          "execution_count": 98
        }
      ]
    },
    {
      "cell_type": "code",
      "source": [
        "np.arange(3).reshape(3,1)+np.arange(3)"
      ],
      "metadata": {
        "colab": {
          "base_uri": "https://localhost:8080/"
        },
        "id": "rCHinPJb8901",
        "outputId": "69d100a5-8067-4467-b651-f561da847c92"
      },
      "execution_count": 101,
      "outputs": [
        {
          "output_type": "execute_result",
          "data": {
            "text/plain": [
              "array([[0, 1, 2],\n",
              "       [1, 2, 3],\n",
              "       [2, 3, 4]])"
            ]
          },
          "metadata": {},
          "execution_count": 101
        }
      ]
    },
    {
      "cell_type": "markdown",
      "source": [
        "## 주요 산술 연산 함수\n",
        "### 유니버셜 함수(ufunc)\n",
        "\n",
        "\n",
        "*   ndarray에 있는 원소들 각각에 연산을 수행하여 결과를 반환\n",
        "*   연산을 빠르게 수행할 수 있음\n",
        "\n"
      ],
      "metadata": {
        "id": "3ehKAEnN9Wb8"
      }
    },
    {
      "cell_type": "code",
      "source": [
        "# np.square(arr) : 제곱\n",
        "np.square(arr)"
      ],
      "metadata": {
        "colab": {
          "base_uri": "https://localhost:8080/"
        },
        "id": "-j04maiZ9FTM",
        "outputId": "4d747ecd-8e33-4c98-fd47-28342a14553c"
      },
      "execution_count": 102,
      "outputs": [
        {
          "output_type": "execute_result",
          "data": {
            "text/plain": [
              "array([ 1,  4,  9, 16])"
            ]
          },
          "metadata": {},
          "execution_count": 102
        }
      ]
    },
    {
      "cell_type": "code",
      "source": [
        "# np.sqrt(arr) : 루트\n",
        "np.sqrt(arr)"
      ],
      "metadata": {
        "colab": {
          "base_uri": "https://localhost:8080/"
        },
        "id": "yzq5Y4GZ-AEl",
        "outputId": "77fbfbfa-e097-4cdf-cb64-bd9c15f9fbad"
      },
      "execution_count": 104,
      "outputs": [
        {
          "output_type": "execute_result",
          "data": {
            "text/plain": [
              "array([1.        , 1.41421356, 1.73205081, 2.        ])"
            ]
          },
          "metadata": {},
          "execution_count": 104
        }
      ]
    },
    {
      "cell_type": "code",
      "source": [
        "# np.exp(arr) : 지수승(e^x)\n",
        "np.exp(arr)"
      ],
      "metadata": {
        "colab": {
          "base_uri": "https://localhost:8080/"
        },
        "id": "O6FlnS3u-E2Z",
        "outputId": "7ce9cb30-a746-4886-b223-aed25b837024"
      },
      "execution_count": 105,
      "outputs": [
        {
          "output_type": "execute_result",
          "data": {
            "text/plain": [
              "array([ 2.71828183,  7.3890561 , 20.08553692, 54.59815003])"
            ]
          },
          "metadata": {},
          "execution_count": 105
        }
      ]
    },
    {
      "cell_type": "code",
      "source": [
        "# np.log(arr) : log\n",
        "np.log(arr)"
      ],
      "metadata": {
        "colab": {
          "base_uri": "https://localhost:8080/"
        },
        "id": "9_BPAE9T-Tzo",
        "outputId": "5640d5d1-e2cb-48e9-9b6a-d4fcac5ddb29"
      },
      "execution_count": 106,
      "outputs": [
        {
          "output_type": "execute_result",
          "data": {
            "text/plain": [
              "array([0.        , 0.69314718, 1.09861229, 1.38629436])"
            ]
          },
          "metadata": {},
          "execution_count": 106
        }
      ]
    },
    {
      "cell_type": "code",
      "source": [
        "# np.add(배열1,배열2) : 더하기\n",
        "np.add(arr,arr1)"
      ],
      "metadata": {
        "colab": {
          "base_uri": "https://localhost:8080/"
        },
        "id": "i9kxcIP9-zFu",
        "outputId": "74c77f85-02d7-414b-d323-579aa3fb4ed9"
      },
      "execution_count": 107,
      "outputs": [
        {
          "output_type": "execute_result",
          "data": {
            "text/plain": [
              "array([ 6,  8, 10, 12])"
            ]
          },
          "metadata": {},
          "execution_count": 107
        }
      ]
    },
    {
      "cell_type": "code",
      "source": [
        "# np.sum(arr) : 합계\n",
        "np.sum(arr)"
      ],
      "metadata": {
        "colab": {
          "base_uri": "https://localhost:8080/"
        },
        "id": "VA3naagw-9Th",
        "outputId": "2cc74ab4-c1c3-477d-c73b-0f97abfdbca7"
      },
      "execution_count": 108,
      "outputs": [
        {
          "output_type": "execute_result",
          "data": {
            "text/plain": [
              "10"
            ]
          },
          "metadata": {},
          "execution_count": 108
        }
      ]
    },
    {
      "cell_type": "code",
      "source": [
        "# np.cumsum(arr) : 누적합\n",
        "np.cumsum(arr)"
      ],
      "metadata": {
        "colab": {
          "base_uri": "https://localhost:8080/"
        },
        "id": "5a0Dc7xy_CL9",
        "outputId": "d32da3e0-dd77-4e46-dfbd-92dfcea277aa"
      },
      "execution_count": 110,
      "outputs": [
        {
          "output_type": "execute_result",
          "data": {
            "text/plain": [
              "array([ 1,  3,  6, 10])"
            ]
          },
          "metadata": {},
          "execution_count": 110
        }
      ]
    },
    {
      "cell_type": "code",
      "source": [
        "# np.mean(arr) : 평균\n",
        "np.mean(arr)"
      ],
      "metadata": {
        "colab": {
          "base_uri": "https://localhost:8080/"
        },
        "id": "Rr76mrzp_G-x",
        "outputId": "5736f5ad-388f-4568-bc29-99c5bcb1e0dd"
      },
      "execution_count": 111,
      "outputs": [
        {
          "output_type": "execute_result",
          "data": {
            "text/plain": [
              "2.5"
            ]
          },
          "metadata": {},
          "execution_count": 111
        }
      ]
    },
    {
      "cell_type": "code",
      "source": [
        "# (참고)axis를 인자로 받아 차원에 따른 연산 수행 가능\n",
        "# axis=0 : 세로끼리\n",
        "# axis=1 : 가로끼리\n",
        "arr_multi=np.arange(16).reshape(4,4)\n",
        "print(arr_multi)\n",
        "print('------------------------')\n",
        "print('mean of axis 0:',arr_multi.mean(axis=0))\n",
        "print('mean of axis 1:',arr_multi.mean(axis=1))"
      ],
      "metadata": {
        "colab": {
          "base_uri": "https://localhost:8080/"
        },
        "id": "ZYPYW60yABjW",
        "outputId": "85c0e9d3-de0e-4443-856a-95cda408e3d4"
      },
      "execution_count": 112,
      "outputs": [
        {
          "output_type": "stream",
          "name": "stdout",
          "text": [
            "[[ 0  1  2  3]\n",
            " [ 4  5  6  7]\n",
            " [ 8  9 10 11]\n",
            " [12 13 14 15]]\n",
            "------------------------\n",
            "mean of axis 0: [6. 7. 8. 9.]\n",
            "mean of axis 1: [ 1.5  5.5  9.5 13.5]\n"
          ]
        }
      ]
    },
    {
      "cell_type": "code",
      "source": [
        "# np.var(arr) : 편차\n",
        "np.var(arr)"
      ],
      "metadata": {
        "colab": {
          "base_uri": "https://localhost:8080/"
        },
        "id": "tNMkeaenAg3q",
        "outputId": "fcc244fb-a5c1-4375-c8e5-d5e10e29f342"
      },
      "execution_count": 113,
      "outputs": [
        {
          "output_type": "execute_result",
          "data": {
            "text/plain": [
              "1.25"
            ]
          },
          "metadata": {},
          "execution_count": 113
        }
      ]
    },
    {
      "cell_type": "code",
      "source": [
        "# np.std(arr) : 표준편차\n",
        "np.std(arr)"
      ],
      "metadata": {
        "colab": {
          "base_uri": "https://localhost:8080/"
        },
        "id": "mrSPJJxbA2l4",
        "outputId": "52dda4fa-2f45-49a7-ba2a-a966d3d95d8f"
      },
      "execution_count": 114,
      "outputs": [
        {
          "output_type": "execute_result",
          "data": {
            "text/plain": [
              "1.118033988749895"
            ]
          },
          "metadata": {},
          "execution_count": 114
        }
      ]
    },
    {
      "cell_type": "code",
      "source": [
        "# np.min(arr) : 최소값\n",
        "np.min(arr)"
      ],
      "metadata": {
        "colab": {
          "base_uri": "https://localhost:8080/"
        },
        "id": "I0A85EvpA6rf",
        "outputId": "cc317eb0-72c1-407e-d78b-1d87ad1da1a4"
      },
      "execution_count": 116,
      "outputs": [
        {
          "output_type": "execute_result",
          "data": {
            "text/plain": [
              "1"
            ]
          },
          "metadata": {},
          "execution_count": 116
        }
      ]
    },
    {
      "cell_type": "code",
      "source": [
        "# np.max(arr) : 최대값\n",
        "np.max(arr)"
      ],
      "metadata": {
        "colab": {
          "base_uri": "https://localhost:8080/"
        },
        "id": "VZS0HJvIBAic",
        "outputId": "4a29c315-f4c1-444f-df68-21b69fcd35b5"
      },
      "execution_count": 117,
      "outputs": [
        {
          "output_type": "execute_result",
          "data": {
            "text/plain": [
              "4"
            ]
          },
          "metadata": {},
          "execution_count": 117
        }
      ]
    },
    {
      "cell_type": "code",
      "source": [
        "# np.argmin(arr) : 최소값의 인덱스\n",
        "np.argmin(arr)"
      ],
      "metadata": {
        "colab": {
          "base_uri": "https://localhost:8080/"
        },
        "id": "ZYwUnWffBGku",
        "outputId": "dbc97235-e707-46bc-e4c4-f35c36fab5fd"
      },
      "execution_count": 118,
      "outputs": [
        {
          "output_type": "execute_result",
          "data": {
            "text/plain": [
              "0"
            ]
          },
          "metadata": {},
          "execution_count": 118
        }
      ]
    },
    {
      "cell_type": "code",
      "source": [
        "# np.argmax(arr) : 최대값의 인덱스\n",
        "np.argmax(arr)"
      ],
      "metadata": {
        "colab": {
          "base_uri": "https://localhost:8080/"
        },
        "id": "fU8HPPQeBMN5",
        "outputId": "cbc987ab-4db0-4919-9d30-b70651da61e4"
      },
      "execution_count": 119,
      "outputs": [
        {
          "output_type": "execute_result",
          "data": {
            "text/plain": [
              "3"
            ]
          },
          "metadata": {},
          "execution_count": 119
        }
      ]
    },
    {
      "cell_type": "code",
      "source": [
        "# arr1.dot(arr2)\n",
        "# np.dot(arr1,arr2) : 행렬곱\n",
        "\n",
        "x=np.arange(6).reshape(2,3)\n",
        "y=np.arange(6).reshape(3,2)\n",
        "print('x \\n',x)\n",
        "print('\\ny \\n',y)\n",
        "\n",
        "print('\\nx.dot(y) \\n',x.dot(y))\n",
        "print('\\nnp.dot(x,y) \\n',np.dot(x,y))"
      ],
      "metadata": {
        "colab": {
          "base_uri": "https://localhost:8080/"
        },
        "id": "XKF3EG4yBQdM",
        "outputId": "c4d72f2c-0444-46cf-e19f-18a22cbf96c2"
      },
      "execution_count": 120,
      "outputs": [
        {
          "output_type": "stream",
          "name": "stdout",
          "text": [
            "x \n",
            " [[0 1 2]\n",
            " [3 4 5]]\n",
            "\n",
            "y \n",
            " [[0 1]\n",
            " [2 3]\n",
            " [4 5]]\n",
            "\n",
            "x.dot(y) \n",
            " [[10 13]\n",
            " [28 40]]\n",
            "\n",
            "np.dot(x,y) \n",
            " [[10 13]\n",
            " [28 40]]\n"
          ]
        }
      ]
    },
    {
      "cell_type": "markdown",
      "source": [
        "## (참고) 기타 연산"
      ],
      "metadata": {
        "id": "l31yJA8hB1Bh"
      }
    },
    {
      "cell_type": "code",
      "source": [
        "# np.where(조건,true일 때 실행, false일 때 실행) : 조건절\n",
        "arr=np.arange(10).reshape(2,5)\n",
        "\n",
        "# arr>5일 때, true인 부분에 10을 반환하고 false인 부분에 0을 반환\n",
        "np.where(arr>5,10,0)"
      ],
      "metadata": {
        "colab": {
          "base_uri": "https://localhost:8080/"
        },
        "id": "nWUYY_wgBnZN",
        "outputId": "b677329d-2ffb-4346-a347-5d03ee61874b"
      },
      "execution_count": 121,
      "outputs": [
        {
          "output_type": "execute_result",
          "data": {
            "text/plain": [
              "array([[ 0,  0,  0,  0,  0],\n",
              "       [ 0, 10, 10, 10, 10]])"
            ]
          },
          "metadata": {},
          "execution_count": 121
        }
      ]
    },
    {
      "cell_type": "code",
      "source": [
        "# np.sort() : 정렬\n",
        "arr=np.random.rand(9).reshape(3,3)\n",
        "print('정렬 이전:',arr)\n",
        "\n",
        "arr.sort()\n",
        "print('정렬 결과:',arr)"
      ],
      "metadata": {
        "colab": {
          "base_uri": "https://localhost:8080/"
        },
        "id": "7ZGYJXpICPrJ",
        "outputId": "a5e69776-2e26-4353-bf98-26868a355f08"
      },
      "execution_count": 123,
      "outputs": [
        {
          "output_type": "stream",
          "name": "stdout",
          "text": [
            "정렬 이전: [[0.83773824 0.76010918 0.8892843 ]\n",
            " [0.3854417  0.15923277 0.52045509]\n",
            " [0.01886832 0.71867855 0.59917736]]\n",
            "정렬 결과: [[0.76010918 0.83773824 0.8892843 ]\n",
            " [0.15923277 0.3854417  0.52045509]\n",
            " [0.01886832 0.59917736 0.71867855]]\n"
          ]
        }
      ]
    },
    {
      "cell_type": "code",
      "source": [
        "arr=np.random.rand(100)\n",
        "print(arr)\n",
        "arr.sort()\n",
        "\n",
        "quantile_1=arr[int(0.25*len(arr))]\n",
        "quantile_4=arr[int(0.75*len(arr))]\n",
        "\n",
        "print('\\n\\n25%:',quantile_1, '75%:',quantile_4)"
      ],
      "metadata": {
        "colab": {
          "base_uri": "https://localhost:8080/"
        },
        "id": "zfRbPIZRCdm_",
        "outputId": "952ad3f9-3c7f-4843-a35b-acc16fa73cf9"
      },
      "execution_count": 125,
      "outputs": [
        {
          "output_type": "stream",
          "name": "stdout",
          "text": [
            "[0.31033906 0.86915151 0.63375569 0.22199439 0.49316717 0.960607\n",
            " 0.76293442 0.14872804 0.18653662 0.4943311  0.18859511 0.4420535\n",
            " 0.91953705 0.92237939 0.29908503 0.39339948 0.50242072 0.42245652\n",
            " 0.93037741 0.98636157 0.02954888 0.13136616 0.4637572  0.89583439\n",
            " 0.44766274 0.93820559 0.58329663 0.33106081 0.33230512 0.03783898\n",
            " 0.82845527 0.3476778  0.42603965 0.08507467 0.19742163 0.1611566\n",
            " 0.62513391 0.61193263 0.62684075 0.29219887 0.38929832 0.12579319\n",
            " 0.36777425 0.46134412 0.91160808 0.19566047 0.84520705 0.78681071\n",
            " 0.73800077 0.29862998 0.86874672 0.71794158 0.81262517 0.02640753\n",
            " 0.54132332 0.38691835 0.79246338 0.43265173 0.11780344 0.11038607\n",
            " 0.51491826 0.19155011 0.9099107  0.32849304 0.14133712 0.4342864\n",
            " 0.75690559 0.38496179 0.44917665 0.80037346 0.44291573 0.78057556\n",
            " 0.38155683 0.39193311 0.55791734 0.66965374 0.17522141 0.35352709\n",
            " 0.49797145 0.45929314 0.93295839 0.41953503 0.16139456 0.48523068\n",
            " 0.01472717 0.74607922 0.80307638 0.57392912 0.21277974 0.43071408\n",
            " 0.8949997  0.71789647 0.08266338 0.6473916  0.30932555 0.58639176\n",
            " 0.99314932 0.67736524 0.98826345 0.04393816]\n",
            "0.29908502836140316\n",
            "\n",
            "\n",
            "25%: 0.29908502836140316 75%: 0.7569055873658331\n"
          ]
        }
      ]
    },
    {
      "cell_type": "markdown",
      "source": [
        "# 3.1.5 변형"
      ],
      "metadata": {
        "id": "KM666lhWDFht"
      }
    },
    {
      "cell_type": "code",
      "source": [
        "arr=np.arange(10).reshape(2,5)\n",
        "arr"
      ],
      "metadata": {
        "colab": {
          "base_uri": "https://localhost:8080/"
        },
        "id": "sFnPV9tzC2X2",
        "outputId": "bc8b0a38-f7dd-4504-fcec-dec673a7f27f"
      },
      "execution_count": 126,
      "outputs": [
        {
          "output_type": "execute_result",
          "data": {
            "text/plain": [
              "array([[0, 1, 2, 3, 4],\n",
              "       [5, 6, 7, 8, 9]])"
            ]
          },
          "metadata": {},
          "execution_count": 126
        }
      ]
    },
    {
      "cell_type": "code",
      "source": [
        "# arr.transpose() : row와 col을 서로 교체 = arr.T\n",
        "arr.transpose()"
      ],
      "metadata": {
        "colab": {
          "base_uri": "https://localhost:8080/"
        },
        "id": "TD5CvrRYDMPj",
        "outputId": "46226924-017e-47fc-e29d-bf8476b7d797"
      },
      "execution_count": 127,
      "outputs": [
        {
          "output_type": "execute_result",
          "data": {
            "text/plain": [
              "array([[0, 5],\n",
              "       [1, 6],\n",
              "       [2, 7],\n",
              "       [3, 8],\n",
              "       [4, 9]])"
            ]
          },
          "metadata": {},
          "execution_count": 127
        }
      ]
    },
    {
      "cell_type": "code",
      "source": [
        "# arr.T : row와 col을 서로 교체\n",
        "arr.T"
      ],
      "metadata": {
        "colab": {
          "base_uri": "https://localhost:8080/"
        },
        "id": "L2UZqqoKDVJN",
        "outputId": "3cd2119d-0792-4ee5-9577-3d84590b3a9c"
      },
      "execution_count": 128,
      "outputs": [
        {
          "output_type": "execute_result",
          "data": {
            "text/plain": [
              "array([[0, 5],\n",
              "       [1, 6],\n",
              "       [2, 7],\n",
              "       [3, 8],\n",
              "       [4, 9]])"
            ]
          },
          "metadata": {},
          "execution_count": 128
        }
      ]
    },
    {
      "cell_type": "code",
      "source": [
        "arr3d=np.arange(27).reshape(3,3,3)\n",
        "arr3d"
      ],
      "metadata": {
        "colab": {
          "base_uri": "https://localhost:8080/"
        },
        "id": "ZD5y79zFDZmr",
        "outputId": "bb29cf14-1212-4493-83a0-379dd36ed34c"
      },
      "execution_count": 130,
      "outputs": [
        {
          "output_type": "execute_result",
          "data": {
            "text/plain": [
              "array([[[ 0,  1,  2],\n",
              "        [ 3,  4,  5],\n",
              "        [ 6,  7,  8]],\n",
              "\n",
              "       [[ 9, 10, 11],\n",
              "        [12, 13, 14],\n",
              "        [15, 16, 17]],\n",
              "\n",
              "       [[18, 19, 20],\n",
              "        [21, 22, 23],\n",
              "        [24, 25, 26]]])"
            ]
          },
          "metadata": {},
          "execution_count": 130
        }
      ]
    },
    {
      "cell_type": "code",
      "source": [
        "# arr3d.transpose(2,1,0)과 동일\n",
        "arr3d.transpose()"
      ],
      "metadata": {
        "colab": {
          "base_uri": "https://localhost:8080/"
        },
        "id": "nYxzRZvQDgZV",
        "outputId": "c15c81c6-f8bb-472c-c509-119677f18d8a"
      },
      "execution_count": 132,
      "outputs": [
        {
          "output_type": "execute_result",
          "data": {
            "text/plain": [
              "array([[[ 0,  9, 18],\n",
              "        [ 3, 12, 21],\n",
              "        [ 6, 15, 24]],\n",
              "\n",
              "       [[ 1, 10, 19],\n",
              "        [ 4, 13, 22],\n",
              "        [ 7, 16, 25]],\n",
              "\n",
              "       [[ 2, 11, 20],\n",
              "        [ 5, 14, 23],\n",
              "        [ 8, 17, 26]]])"
            ]
          },
          "metadata": {},
          "execution_count": 132
        }
      ]
    },
    {
      "cell_type": "code",
      "source": [
        "arr3d.transpose(1,0,2)"
      ],
      "metadata": {
        "colab": {
          "base_uri": "https://localhost:8080/"
        },
        "id": "Ms6U6ovFDlcb",
        "outputId": "02daf741-7614-49ee-bc11-4999d05b6291"
      },
      "execution_count": 134,
      "outputs": [
        {
          "output_type": "execute_result",
          "data": {
            "text/plain": [
              "array([[[ 0,  1,  2],\n",
              "        [ 9, 10, 11],\n",
              "        [18, 19, 20]],\n",
              "\n",
              "       [[ 3,  4,  5],\n",
              "        [12, 13, 14],\n",
              "        [21, 22, 23]],\n",
              "\n",
              "       [[ 6,  7,  8],\n",
              "        [15, 16, 17],\n",
              "        [24, 25, 26]]])"
            ]
          },
          "metadata": {},
          "execution_count": 134
        }
      ]
    },
    {
      "cell_type": "code",
      "source": [
        "# 행렬의 내적을 구할 때, 축의 전치를 활용\n",
        "arr=np.random.rand(3,6)\n",
        "np.dot(arr,arr.T)"
      ],
      "metadata": {
        "colab": {
          "base_uri": "https://localhost:8080/"
        },
        "id": "ZBttGho-EPyi",
        "outputId": "a31bf2bf-0597-4aa5-c8fc-ae4e0855ec54"
      },
      "execution_count": 141,
      "outputs": [
        {
          "output_type": "execute_result",
          "data": {
            "text/plain": [
              "array([[1.11093317, 1.3135727 , 1.42394491],\n",
              "       [1.3135727 , 2.53574031, 2.00611258],\n",
              "       [1.42394491, 2.00611258, 2.09248107]])"
            ]
          },
          "metadata": {},
          "execution_count": 141
        }
      ]
    },
    {
      "cell_type": "code",
      "source": [
        "# newaxis : 새로운 축 추가\n",
        "arr=np.zeros((2,2))\n",
        "arr3d=arr[:,np.newaxis,:]\n",
        "arr3d.shape"
      ],
      "metadata": {
        "colab": {
          "base_uri": "https://localhost:8080/"
        },
        "id": "ZNbNopfYD28Z",
        "outputId": "0afdd407-b6de-46a6-c2f5-c19ff459a2e8"
      },
      "execution_count": 138,
      "outputs": [
        {
          "output_type": "execute_result",
          "data": {
            "text/plain": [
              "array([[[0., 0.]],\n",
              "\n",
              "       [[0., 0.]]])"
            ]
          },
          "metadata": {},
          "execution_count": 138
        }
      ]
    },
    {
      "cell_type": "markdown",
      "source": [
        "# 3.1.6 저장\n",
        "\n",
        "*   ndarray를 바이너리 형식으로 디스크에 저장할 수 있음\n",
        "*   대용량 데이터의 경우 읽고 쓰는데 시간을 줄일 수 있음\n",
        "\n"
      ],
      "metadata": {
        "id": "WwaPncD5GEU1"
      }
    },
    {
      "cell_type": "code",
      "source": [
        "# np.save(저장하고자 하는 이름, arr) : arr을 저장하고자 하는 이름으로 디스크에 저장\n",
        "# np.load(저장된 이름) : 변수에 디스크에 저장된 이름 찾아 담기\n",
        "arr=np.arange(10).reshape(2,5)\n",
        "np.save('array',arr)\n",
        "load_arr=np.load('array.npy')\n",
        "load_arr"
      ],
      "metadata": {
        "colab": {
          "base_uri": "https://localhost:8080/"
        },
        "id": "D538G6NgF66L",
        "outputId": "1c928ad0-2c41-4d37-9ac0-14eed4ff01f9"
      },
      "execution_count": 143,
      "outputs": [
        {
          "output_type": "execute_result",
          "data": {
            "text/plain": [
              "array([[0, 1, 2, 3, 4],\n",
              "       [5, 6, 7, 8, 9]])"
            ]
          },
          "metadata": {},
          "execution_count": 143
        }
      ]
    },
    {
      "cell_type": "code",
      "source": [
        "# np.savez(저장하고자 하는 이름, 인자1=arr1, 인자2=arr2) : 여러 배열을 압축된 형식으로 저장하고, 저장하려는 배열을 키워드 인자 형태로 전달\n",
        "arr1=np.arange(10).reshape(2,5)\n",
        "arr2=np.arange(10)\n",
        "np.savez('array.npz',a=arr1,b=arr2)\n",
        "arrs=np.load('array.npz')\n",
        "arrs"
      ],
      "metadata": {
        "colab": {
          "base_uri": "https://localhost:8080/"
        },
        "id": "yC4PGOn-GTc6",
        "outputId": "c0523265-77b7-4669-97de-c7055f345b8e"
      },
      "execution_count": 144,
      "outputs": [
        {
          "output_type": "execute_result",
          "data": {
            "text/plain": [
              "<numpy.lib.npyio.NpzFile at 0x7f7bc9b0ce80>"
            ]
          },
          "metadata": {},
          "execution_count": 144
        }
      ]
    },
    {
      "cell_type": "code",
      "source": [
        "arrs['a']"
      ],
      "metadata": {
        "colab": {
          "base_uri": "https://localhost:8080/"
        },
        "id": "QlldeMwjHPn4",
        "outputId": "9f914aef-09dd-477c-dc0e-50c81a004a34"
      },
      "execution_count": 145,
      "outputs": [
        {
          "output_type": "execute_result",
          "data": {
            "text/plain": [
              "array([[0, 1, 2, 3, 4],\n",
              "       [5, 6, 7, 8, 9]])"
            ]
          },
          "metadata": {},
          "execution_count": 145
        }
      ]
    },
    {
      "cell_type": "code",
      "source": [
        "arrs['b']"
      ],
      "metadata": {
        "colab": {
          "base_uri": "https://localhost:8080/"
        },
        "id": "l77kUfMXHVMQ",
        "outputId": "a3093c30-dc19-4e8b-95d4-f279c5040eb2"
      },
      "execution_count": 146,
      "outputs": [
        {
          "output_type": "execute_result",
          "data": {
            "text/plain": [
              "array([0, 1, 2, 3, 4, 5, 6, 7, 8, 9])"
            ]
          },
          "metadata": {},
          "execution_count": 146
        }
      ]
    },
    {
      "cell_type": "code",
      "source": [
        "arrs.close()"
      ],
      "metadata": {
        "id": "1lN5Vda2HWyY"
      },
      "execution_count": 147,
      "outputs": []
    }
  ]
}