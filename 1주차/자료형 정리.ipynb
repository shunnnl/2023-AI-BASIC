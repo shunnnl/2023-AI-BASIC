{
  "nbformat": 4,
  "nbformat_minor": 0,
  "metadata": {
    "colab": {
      "provenance": [],
      "authorship_tag": "ABX9TyMwUxoZSeBDIoo66VVY1ZzZ",
      "include_colab_link": true
    },
    "kernelspec": {
      "name": "python3",
      "display_name": "Python 3"
    },
    "language_info": {
      "name": "python"
    }
  },
  "cells": [
    {
      "cell_type": "markdown",
      "metadata": {
        "id": "view-in-github",
        "colab_type": "text"
      },
      "source": [
        "<a href=\"https://colab.research.google.com/github/shunnnl/2023-AI-BASIC/blob/main/%EB%B3%80%EC%88%98_%EB%B0%8F_%EC%9E%90%EB%A3%8C%ED%98%95.ipynb\" target=\"_parent\"><img src=\"https://colab.research.google.com/assets/colab-badge.svg\" alt=\"Open In Colab\"/></a>"
      ]
    },
    {
      "cell_type": "code",
      "execution_count": 167,
      "metadata": {
        "colab": {
          "base_uri": "https://localhost:8080/"
        },
        "id": "vmvp-9r-r9eU",
        "outputId": "398e0afc-572b-4f74-f394-6415d3d64496"
      },
      "outputs": [
        {
          "output_type": "execute_result",
          "data": {
            "text/plain": [
              "float"
            ]
          },
          "metadata": {},
          "execution_count": 167
        }
      ],
      "source": [
        "# 변수 한 번에 여러개 할당\n",
        "x,y,z=10,3.14,'abc'\n",
        "type(y)"
      ]
    },
    {
      "cell_type": "code",
      "source": [
        "# float\n",
        "a=17e3\n",
        "a"
      ],
      "metadata": {
        "colab": {
          "base_uri": "https://localhost:8080/"
        },
        "id": "qDFQQys1sETM",
        "outputId": "3fe832ef-a83d-43a4-b224-baeda1d46f51"
      },
      "execution_count": 168,
      "outputs": [
        {
          "output_type": "execute_result",
          "data": {
            "text/plain": [
              "17000.0"
            ]
          },
          "metadata": {},
          "execution_count": 168
        }
      ]
    },
    {
      "cell_type": "code",
      "source": [
        "# boolean\n",
        "b=100>50\n",
        "b"
      ],
      "metadata": {
        "colab": {
          "base_uri": "https://localhost:8080/"
        },
        "id": "omd-JK4y-D2m",
        "outputId": "45598d89-292c-486f-c88f-a0f217de5f46"
      },
      "execution_count": 169,
      "outputs": [
        {
          "output_type": "execute_result",
          "data": {
            "text/plain": [
              "True"
            ]
          },
          "metadata": {},
          "execution_count": 169
        }
      ]
    },
    {
      "cell_type": "code",
      "source": [
        "# 따옴표 문자열 내에 사용하기\n",
        "x=\"I 'love' you.\"\n",
        "x"
      ],
      "metadata": {
        "colab": {
          "base_uri": "https://localhost:8080/",
          "height": 36
        },
        "id": "rM7DI_Bo-W7R",
        "outputId": "b96fd58d-07b3-4486-c72b-1cdc128313ec"
      },
      "execution_count": 170,
      "outputs": [
        {
          "output_type": "execute_result",
          "data": {
            "text/plain": [
              "\"I 'love' you.\""
            ],
            "application/vnd.google.colaboratory.intrinsic+json": {
              "type": "string"
            }
          },
          "metadata": {},
          "execution_count": 170
        }
      ]
    },
    {
      "cell_type": "code",
      "source": [
        "# type 변환\n",
        "temperature='20'\n",
        "humidity='50'\n",
        "temperature+humidity\n",
        "int(temperature)+int(humidity)"
      ],
      "metadata": {
        "colab": {
          "base_uri": "https://localhost:8080/"
        },
        "id": "UBbvv4HB-9UK",
        "outputId": "8df5d2bf-301d-439e-9824-2a9f022c6708"
      },
      "execution_count": 171,
      "outputs": [
        {
          "output_type": "execute_result",
          "data": {
            "text/plain": [
              "70"
            ]
          },
          "metadata": {},
          "execution_count": 171
        }
      ]
    },
    {
      "cell_type": "code",
      "source": [
        "# list 사용\n",
        "fruit_list=['apple','banana','orange']\n",
        "len(fruit_list)"
      ],
      "metadata": {
        "colab": {
          "base_uri": "https://localhost:8080/"
        },
        "id": "9VoEwsWz-_24",
        "outputId": "c03f980e-1551-4d73-e684-d855ef9e2e32"
      },
      "execution_count": 172,
      "outputs": [
        {
          "output_type": "execute_result",
          "data": {
            "text/plain": [
              "3"
            ]
          },
          "metadata": {},
          "execution_count": 172
        }
      ]
    },
    {
      "cell_type": "code",
      "source": [
        "# 아이템 할당\n",
        "fruit_list[1]=\"kiwi\"\n",
        "fruit_list[1:3]=[\"strawberry\",\"blueberry\"]\n",
        "fruit_list[:]"
      ],
      "metadata": {
        "colab": {
          "base_uri": "https://localhost:8080/"
        },
        "id": "zZzpiVOHAMjz",
        "outputId": "10c5452f-9706-426b-9371-be1ef5251829"
      },
      "execution_count": 173,
      "outputs": [
        {
          "output_type": "execute_result",
          "data": {
            "text/plain": [
              "['apple', 'strawberry', 'blueberry']"
            ]
          },
          "metadata": {},
          "execution_count": 173
        }
      ]
    },
    {
      "cell_type": "code",
      "source": [
        "# 아이템 추가-insert(,), append(), extend(), 리스트 '+' 리스트\n",
        "fruit_list.insert(2,\"mango\")\n",
        "fruit_list"
      ],
      "metadata": {
        "colab": {
          "base_uri": "https://localhost:8080/"
        },
        "id": "7CXYNbOgAP1V",
        "outputId": "083e67b2-ea1e-4751-a596-73c4c371b75b"
      },
      "execution_count": 174,
      "outputs": [
        {
          "output_type": "execute_result",
          "data": {
            "text/plain": [
              "['apple', 'strawberry', 'mango', 'blueberry']"
            ]
          },
          "metadata": {},
          "execution_count": 174
        }
      ]
    },
    {
      "cell_type": "code",
      "source": [
        "fruit_list.append(\"watermelon\")\n",
        "fruit_list"
      ],
      "metadata": {
        "colab": {
          "base_uri": "https://localhost:8080/"
        },
        "id": "hHSrD79tBWM0",
        "outputId": "e2280150-a6ca-4499-85b0-600122d5e43e"
      },
      "execution_count": 175,
      "outputs": [
        {
          "output_type": "execute_result",
          "data": {
            "text/plain": [
              "['apple', 'strawberry', 'mango', 'blueberry', 'watermelon']"
            ]
          },
          "metadata": {},
          "execution_count": 175
        }
      ]
    },
    {
      "cell_type": "code",
      "source": [
        "vegetable_list=[\"carrot\",\"tomato\",\"onion\"]\n",
        "fruit_list.extend(vegetable_list)\n",
        "fruit_list"
      ],
      "metadata": {
        "colab": {
          "base_uri": "https://localhost:8080/"
        },
        "id": "19SXrfRzBk2C",
        "outputId": "c8b2cea1-9b37-4a90-8c8f-58789f6c382c"
      },
      "execution_count": 176,
      "outputs": [
        {
          "output_type": "execute_result",
          "data": {
            "text/plain": [
              "['apple',\n",
              " 'strawberry',\n",
              " 'mango',\n",
              " 'blueberry',\n",
              " 'watermelon',\n",
              " 'carrot',\n",
              " 'tomato',\n",
              " 'onion']"
            ]
          },
          "metadata": {},
          "execution_count": 176
        }
      ]
    },
    {
      "cell_type": "code",
      "source": [
        "list3=fruit_list+vegetable_list\n",
        "list3"
      ],
      "metadata": {
        "colab": {
          "base_uri": "https://localhost:8080/"
        },
        "id": "bllE17rIB2K3",
        "outputId": "d03f88ae-58bc-4bd9-f16e-d152c0e69844"
      },
      "execution_count": 177,
      "outputs": [
        {
          "output_type": "execute_result",
          "data": {
            "text/plain": [
              "['apple',\n",
              " 'strawberry',\n",
              " 'mango',\n",
              " 'blueberry',\n",
              " 'watermelon',\n",
              " 'carrot',\n",
              " 'tomato',\n",
              " 'onion',\n",
              " 'carrot',\n",
              " 'tomato',\n",
              " 'onion']"
            ]
          },
          "metadata": {},
          "execution_count": 177
        }
      ]
    },
    {
      "cell_type": "code",
      "source": [
        "# 아이템 삭제 - remove(), del, clear()\n",
        "fruit_list=[\"apple\",\"tomato\",\"banana\",\"orange\"]\n",
        "fruit_list.remove(\"tomato\")\n",
        "fruit_list"
      ],
      "metadata": {
        "colab": {
          "base_uri": "https://localhost:8080/"
        },
        "id": "CPtyTjpHDGlB",
        "outputId": "6efba6c3-4ea5-4bc6-b1ee-b9e566834efa"
      },
      "execution_count": 178,
      "outputs": [
        {
          "output_type": "execute_result",
          "data": {
            "text/plain": [
              "['apple', 'banana', 'orange']"
            ]
          },
          "metadata": {},
          "execution_count": 178
        }
      ]
    },
    {
      "cell_type": "code",
      "source": [
        "del fruit_list[-1]\n",
        "fruit_list"
      ],
      "metadata": {
        "colab": {
          "base_uri": "https://localhost:8080/"
        },
        "id": "UKLN3oG5EFrq",
        "outputId": "9443802f-1f6a-4dfe-c801-2d5867ba940d"
      },
      "execution_count": 179,
      "outputs": [
        {
          "output_type": "execute_result",
          "data": {
            "text/plain": [
              "['apple', 'banana']"
            ]
          },
          "metadata": {},
          "execution_count": 179
        }
      ]
    },
    {
      "cell_type": "code",
      "source": [
        "fruit_list.clear()\n",
        "fruit_list"
      ],
      "metadata": {
        "colab": {
          "base_uri": "https://localhost:8080/"
        },
        "id": "3pV8LhtXEgvD",
        "outputId": "0898fb8e-8707-41e1-860a-6ffbd0b9dcd6"
      },
      "execution_count": 180,
      "outputs": [
        {
          "output_type": "execute_result",
          "data": {
            "text/plain": [
              "[]"
            ]
          },
          "metadata": {},
          "execution_count": 180
        }
      ]
    },
    {
      "cell_type": "code",
      "source": [
        "# 아이템 정렬 - sort()\n",
        "list3.sort(reverse=True)\n",
        "list3"
      ],
      "metadata": {
        "colab": {
          "base_uri": "https://localhost:8080/"
        },
        "id": "TaOp782dEsZ-",
        "outputId": "2b1b18ae-3ed3-4cca-fd0c-a2f3088218df"
      },
      "execution_count": 181,
      "outputs": [
        {
          "output_type": "execute_result",
          "data": {
            "text/plain": [
              "['watermelon',\n",
              " 'tomato',\n",
              " 'tomato',\n",
              " 'strawberry',\n",
              " 'onion',\n",
              " 'onion',\n",
              " 'mango',\n",
              " 'carrot',\n",
              " 'carrot',\n",
              " 'blueberry',\n",
              " 'apple']"
            ]
          },
          "metadata": {},
          "execution_count": 181
        }
      ]
    },
    {
      "cell_type": "code",
      "source": [
        "# tuple 사용 - 변경이 불가능하기 때문에 list로 변환 후 변경\n",
        "fruit_tuple=(\"apple\",\"banana\",\"orange\")\n",
        "fruit_list=list(fruit_tuple)\n",
        "fruit_list.append(\"watermelon\")\n",
        "fruit_list.remove(\"apple\")\n",
        "fruit_tuple=tuple(fruit_list)\n",
        "fruit_tuple"
      ],
      "metadata": {
        "colab": {
          "base_uri": "https://localhost:8080/"
        },
        "id": "_B-8eDjJFKa6",
        "outputId": "c4d63f58-9dd7-4a83-986a-cc7f826abae4"
      },
      "execution_count": 182,
      "outputs": [
        {
          "output_type": "execute_result",
          "data": {
            "text/plain": [
              "('banana', 'orange', 'watermelon')"
            ]
          },
          "metadata": {},
          "execution_count": 182
        }
      ]
    },
    {
      "cell_type": "code",
      "source": [
        "# set 사용 - add(),update()\n",
        "fruit_set={\"apple\",\"apple\",\"banana\",\"orange\"}\n",
        "fruit_set.add(\"kiwi\")\n",
        "fruit_set"
      ],
      "metadata": {
        "colab": {
          "base_uri": "https://localhost:8080/"
        },
        "id": "hnexXqH-GO9y",
        "outputId": "f1281871-438c-441e-c43d-f760d074f2af"
      },
      "execution_count": 183,
      "outputs": [
        {
          "output_type": "execute_result",
          "data": {
            "text/plain": [
              "{'apple', 'banana', 'kiwi', 'orange'}"
            ]
          },
          "metadata": {},
          "execution_count": 183
        }
      ]
    },
    {
      "cell_type": "code",
      "source": [
        "vegetable_set={\"carrot\",\"tomato\",\"onion\"}\n",
        "fruit_set.update(vegetable_set)\n",
        "fruit_set"
      ],
      "metadata": {
        "colab": {
          "base_uri": "https://localhost:8080/"
        },
        "id": "YdpZBcFEHIpz",
        "outputId": "08909790-07ba-419a-db92-b0b369ed1a7f"
      },
      "execution_count": 184,
      "outputs": [
        {
          "output_type": "execute_result",
          "data": {
            "text/plain": [
              "{'apple', 'banana', 'carrot', 'kiwi', 'onion', 'orange', 'tomato'}"
            ]
          },
          "metadata": {},
          "execution_count": 184
        }
      ]
    },
    {
      "cell_type": "code",
      "source": [
        "# set 삭제 - remove(),clear() **del는 위치 선정해줘야하므로 list로 타입 변환 후 삭제 거친다.\n",
        "fruit_set.remove(\"onion\")\n",
        "fruit_set.clear()"
      ],
      "metadata": {
        "id": "GWR3jY6aHXL3"
      },
      "execution_count": 185,
      "outputs": []
    },
    {
      "cell_type": "code",
      "source": [
        "# dict 생성 - update()\n",
        "my_dict={\"name\":\"harry\",\n",
        "         \"age\":27,\n",
        "         \"height\":190,\n",
        "         \"weight\":99.9}\n",
        "my_dict.keys()\n",
        "my_dict[\"age\"]=28\n",
        "my_dict.update({\"weight\":100})\n",
        "my_dict.update({\"address\":\"Busan\"})\n",
        "my_dict"
      ],
      "metadata": {
        "colab": {
          "base_uri": "https://localhost:8080/"
        },
        "id": "caA-3BtZHqie",
        "outputId": "da6378f3-dfc9-4ec1-fd17-c5c6f6f6339d"
      },
      "execution_count": 186,
      "outputs": [
        {
          "output_type": "execute_result",
          "data": {
            "text/plain": [
              "{'name': 'harry', 'age': 28, 'height': 190, 'weight': 100, 'address': 'Busan'}"
            ]
          },
          "metadata": {},
          "execution_count": 186
        }
      ]
    },
    {
      "cell_type": "code",
      "source": [
        "# dict 아이템 삭제 - popitem(),pop(),clear()\n",
        "my_dict.popitem()\n",
        "my_dict.pop(\"age\")\n",
        "my_dict"
      ],
      "metadata": {
        "colab": {
          "base_uri": "https://localhost:8080/"
        },
        "id": "BZ2IXawlJydM",
        "outputId": "24c97977-8cba-427c-b6b6-73d64f71ac3a"
      },
      "execution_count": 187,
      "outputs": [
        {
          "output_type": "execute_result",
          "data": {
            "text/plain": [
              "{'name': 'harry', 'height': 190, 'weight': 100}"
            ]
          },
          "metadata": {},
          "execution_count": 187
        }
      ]
    },
    {
      "cell_type": "code",
      "source": [
        "my_dict.clear()"
      ],
      "metadata": {
        "id": "QznLUvPXOFfP"
      },
      "execution_count": 188,
      "outputs": []
    },
    {
      "cell_type": "code",
      "source": [],
      "metadata": {
        "id": "GpRoSBrXOOaz"
      },
      "execution_count": null,
      "outputs": []
    }
  ]
}
