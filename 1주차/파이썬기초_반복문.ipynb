{
  "nbformat": 4,
  "nbformat_minor": 0,
  "metadata": {
    "colab": {
      "provenance": [],
      "authorship_tag": "ABX9TyPf6Ks/K9Z61TVr1rVl+tB5",
      "include_colab_link": true
    },
    "kernelspec": {
      "name": "python3",
      "display_name": "Python 3"
    },
    "language_info": {
      "name": "python"
    }
  },
  "cells": [
    {
      "cell_type": "markdown",
      "metadata": {
        "id": "view-in-github",
        "colab_type": "text"
      },
      "source": [
        "<a href=\"https://colab.research.google.com/github/shunnnl/2023-AI-BASIC/blob/main/%EB%B0%98%EB%B3%B5%EB%AC%B8.ipynb\" target=\"_parent\"><img src=\"https://colab.research.google.com/assets/colab-badge.svg\" alt=\"Open In Colab\"/></a>"
      ]
    },
    {
      "cell_type": "code",
      "execution_count": 7,
      "metadata": {
        "colab": {
          "base_uri": "https://localhost:8080/"
        },
        "id": "2Z3g3p9xHr-Z",
        "outputId": "7c93f596-9279-46f2-ac05-7670ddd528c2"
      },
      "outputs": [
        {
          "output_type": "stream",
          "name": "stdout",
          "text": [
            "[85, 95, 75, 70, 100, 100, 95, 85, 80, 85]\n",
            "[85, 95, 75, 70, 100, 100, 95, 85, 80, 85]\n"
          ]
        }
      ],
      "source": [
        "# for문 사용\n",
        "# 컴프리헨션\n",
        "scores=[80,90,70,65,95,100,90,80,75,80]\n",
        "new_scores=[]\n",
        "\n",
        "for s in scores:\n",
        "  if s<100:\n",
        "    new=s+5\n",
        "  else:\n",
        "    new=s\n",
        "  new_scores.append(new)\n",
        "\n",
        "new_scores2=[s+5 if s<100 else s for s in scores]\n",
        "print(new_scores)\n",
        "print(new_scores2)"
      ]
    },
    {
      "cell_type": "code",
      "source": [
        "# while문 사용\n",
        "scores=[80,90,70,65,95,100,90,80,75,80]\n",
        "new_scores=[]\n",
        "index=0\n",
        "\n",
        "while(index<len(scores)):\n",
        "  if(scores[index]<100):\n",
        "    new=scores[index]+5\n",
        "  else:\n",
        "    new=scores[index]\n",
        "  new_scores.append(new)\n",
        "  index+=1\n",
        "\n",
        "print(new_scores)"
      ],
      "metadata": {
        "colab": {
          "base_uri": "https://localhost:8080/"
        },
        "id": "oaDviaUFIJ97",
        "outputId": "d94ac989-e542-447a-e7ac-5f20e4791393"
      },
      "execution_count": 8,
      "outputs": [
        {
          "output_type": "stream",
          "name": "stdout",
          "text": [
            "[85, 95, 75, 70, 100, 100, 95, 85, 80, 85]\n"
          ]
        }
      ]
    },
    {
      "cell_type": "code",
      "source": [
        "# 흐름 제어 - break, pass\n",
        "# '{}포함 문자열'.format(변수)\n",
        "time=0\n",
        "while(True):\n",
        "  print('현재 사용량 : {}'.format(time))\n",
        "  if(time<150):\n",
        "    pass\n",
        "  if(time>=300):\n",
        "    print('[사용 중단]하루 사용 권장량에 도달 또는 초과하였습니다.')\n",
        "    break\n",
        "  else:\n",
        "    time+=50"
      ],
      "metadata": {
        "colab": {
          "base_uri": "https://localhost:8080/"
        },
        "id": "V3MNVBXLKg14",
        "outputId": "57fbd55e-cdda-4de3-8584-fa4370ad2f29"
      },
      "execution_count": 11,
      "outputs": [
        {
          "output_type": "stream",
          "name": "stdout",
          "text": [
            "현재 사용량 : 0\n",
            "현재 사용량 : 50\n",
            "현재 사용량 : 100\n",
            "현재 사용량 : 150\n",
            "현재 사용량 : 200\n",
            "현재 사용량 : 250\n",
            "현재 사용량 : 300\n",
            "[사용 중단]하루 사용 권장량에 도달 또는 초과하였습니다.\n"
          ]
        }
      ]
    },
    {
      "cell_type": "code",
      "source": [
        "# 연습문제1 - dict.items()사용법\n",
        "shopping_dict={'주문번호':123,\n",
        "               '주문자':'김**',\n",
        "               '주소':'서울 마포구 상암동',\n",
        "               '주문항목':['맛좋은 김치','맛좋은 라면','시원한 물']}\n",
        "for key,value in shopping_dict.items():\n",
        "  print(key)\n",
        "  print(value)\n",
        "  print(\"-----\")"
      ],
      "metadata": {
        "colab": {
          "base_uri": "https://localhost:8080/"
        },
        "id": "nKRh34tVLV8Z",
        "outputId": "61c0e76a-f712-4af5-bb08-76faa3b9ea14"
      },
      "execution_count": 15,
      "outputs": [
        {
          "output_type": "stream",
          "name": "stdout",
          "text": [
            "주문번호\n",
            "123\n",
            "-----\n",
            "주문자\n",
            "김**\n",
            "-----\n",
            "주소\n",
            "서울 마포구 상암동\n",
            "-----\n",
            "주문항목\n",
            "['맛좋은 김치', '맛좋은 라면', '시원한 물']\n",
            "-----\n"
          ]
        }
      ]
    },
    {
      "cell_type": "code",
      "source": [
        "# 연습문제2\n",
        "menu={\"고구마\":200,\"떡볶이\":600,\"라면\":800}\n",
        "for key,value in menu.items():\n",
        "  if value>500:\n",
        "    print(\"{}:X\".format(key))\n",
        "  else:\n",
        "    print(\"{}:0\".format(key))"
      ],
      "metadata": {
        "colab": {
          "base_uri": "https://localhost:8080/"
        },
        "id": "rNhhZjEyMotU",
        "outputId": "7b80cbad-6269-4ff0-c1b8-31133dc864c9"
      },
      "execution_count": 16,
      "outputs": [
        {
          "output_type": "stream",
          "name": "stdout",
          "text": [
            "고구마:0\n",
            "떡볶이:X\n",
            "라면:X\n"
          ]
        }
      ]
    },
    {
      "cell_type": "code",
      "source": [
        "# 연습문제3\n",
        "lyric=\"\"\"산토끼 토끼야. 어디를 가느냐. 깡충까충 뛰면서. 어디를 가느냐.\n",
        "산 고개 고개를. 나 혼자 넘어서. 토실토실 알밤을. 주워 올 테야.\"\"\"\n",
        "\n",
        "count=0\n",
        "for l in lyric:\n",
        "  if l=='토':\n",
        "    count+=1\n",
        "print(count)"
      ],
      "metadata": {
        "colab": {
          "base_uri": "https://localhost:8080/"
        },
        "id": "L4RcAczNN0LB",
        "outputId": "d0f4ceb2-b3c7-4254-f1cf-1ecb49f2a27e"
      },
      "execution_count": 17,
      "outputs": [
        {
          "output_type": "stream",
          "name": "stdout",
          "text": [
            "4\n"
          ]
        }
      ]
    },
    {
      "cell_type": "code",
      "source": [
        "# 연습문제4\n",
        "for num in range(9):\n",
        "  print(\"3 * {} = {}\".format(num+1,3*(num+1)))"
      ],
      "metadata": {
        "colab": {
          "base_uri": "https://localhost:8080/"
        },
        "id": "fjFmh5-RORqN",
        "outputId": "83ad06ae-d9cd-4ea7-d652-ce90c7500036"
      },
      "execution_count": 18,
      "outputs": [
        {
          "output_type": "stream",
          "name": "stdout",
          "text": [
            "3 * 1 = 3\n",
            "3 * 2 = 6\n",
            "3 * 3 = 9\n",
            "3 * 4 = 12\n",
            "3 * 5 = 15\n",
            "3 * 6 = 18\n",
            "3 * 7 = 21\n",
            "3 * 8 = 24\n",
            "3 * 9 = 27\n"
          ]
        }
      ]
    },
    {
      "cell_type": "code",
      "source": [
        "# 연습문제5\n",
        "bookmark=0\n",
        "for day in range(20):\n",
        "  print(\"[{}일차 공부계획]\".format(day+1))\n",
        "  for s in range(5):\n",
        "    print(\"{}쪽 공부\".format(bookmark+s+1))\n",
        "  bookmark+=s+1"
      ],
      "metadata": {
        "colab": {
          "base_uri": "https://localhost:8080/"
        },
        "id": "kMpvveUaOmQU",
        "outputId": "bb5557cb-ed28-4a01-a67c-b424d3d7d8c1"
      },
      "execution_count": 22,
      "outputs": [
        {
          "output_type": "stream",
          "name": "stdout",
          "text": [
            "[1일차 공부계획]\n",
            "1쪽 공부\n",
            "2쪽 공부\n",
            "3쪽 공부\n",
            "4쪽 공부\n",
            "5쪽 공부\n",
            "[2일차 공부계획]\n",
            "6쪽 공부\n",
            "7쪽 공부\n",
            "8쪽 공부\n",
            "9쪽 공부\n",
            "10쪽 공부\n",
            "[3일차 공부계획]\n",
            "11쪽 공부\n",
            "12쪽 공부\n",
            "13쪽 공부\n",
            "14쪽 공부\n",
            "15쪽 공부\n",
            "[4일차 공부계획]\n",
            "16쪽 공부\n",
            "17쪽 공부\n",
            "18쪽 공부\n",
            "19쪽 공부\n",
            "20쪽 공부\n",
            "[5일차 공부계획]\n",
            "21쪽 공부\n",
            "22쪽 공부\n",
            "23쪽 공부\n",
            "24쪽 공부\n",
            "25쪽 공부\n",
            "[6일차 공부계획]\n",
            "26쪽 공부\n",
            "27쪽 공부\n",
            "28쪽 공부\n",
            "29쪽 공부\n",
            "30쪽 공부\n",
            "[7일차 공부계획]\n",
            "31쪽 공부\n",
            "32쪽 공부\n",
            "33쪽 공부\n",
            "34쪽 공부\n",
            "35쪽 공부\n",
            "[8일차 공부계획]\n",
            "36쪽 공부\n",
            "37쪽 공부\n",
            "38쪽 공부\n",
            "39쪽 공부\n",
            "40쪽 공부\n",
            "[9일차 공부계획]\n",
            "41쪽 공부\n",
            "42쪽 공부\n",
            "43쪽 공부\n",
            "44쪽 공부\n",
            "45쪽 공부\n",
            "[10일차 공부계획]\n",
            "46쪽 공부\n",
            "47쪽 공부\n",
            "48쪽 공부\n",
            "49쪽 공부\n",
            "50쪽 공부\n",
            "[11일차 공부계획]\n",
            "51쪽 공부\n",
            "52쪽 공부\n",
            "53쪽 공부\n",
            "54쪽 공부\n",
            "55쪽 공부\n",
            "[12일차 공부계획]\n",
            "56쪽 공부\n",
            "57쪽 공부\n",
            "58쪽 공부\n",
            "59쪽 공부\n",
            "60쪽 공부\n",
            "[13일차 공부계획]\n",
            "61쪽 공부\n",
            "62쪽 공부\n",
            "63쪽 공부\n",
            "64쪽 공부\n",
            "65쪽 공부\n",
            "[14일차 공부계획]\n",
            "66쪽 공부\n",
            "67쪽 공부\n",
            "68쪽 공부\n",
            "69쪽 공부\n",
            "70쪽 공부\n",
            "[15일차 공부계획]\n",
            "71쪽 공부\n",
            "72쪽 공부\n",
            "73쪽 공부\n",
            "74쪽 공부\n",
            "75쪽 공부\n",
            "[16일차 공부계획]\n",
            "76쪽 공부\n",
            "77쪽 공부\n",
            "78쪽 공부\n",
            "79쪽 공부\n",
            "80쪽 공부\n",
            "[17일차 공부계획]\n",
            "81쪽 공부\n",
            "82쪽 공부\n",
            "83쪽 공부\n",
            "84쪽 공부\n",
            "85쪽 공부\n",
            "[18일차 공부계획]\n",
            "86쪽 공부\n",
            "87쪽 공부\n",
            "88쪽 공부\n",
            "89쪽 공부\n",
            "90쪽 공부\n",
            "[19일차 공부계획]\n",
            "91쪽 공부\n",
            "92쪽 공부\n",
            "93쪽 공부\n",
            "94쪽 공부\n",
            "95쪽 공부\n",
            "[20일차 공부계획]\n",
            "96쪽 공부\n",
            "97쪽 공부\n",
            "98쪽 공부\n",
            "99쪽 공부\n",
            "100쪽 공부\n"
          ]
        }
      ]
    }
  ]
}
