{
  "nbformat": 4,
  "nbformat_minor": 0,
  "metadata": {
    "colab": {
      "provenance": [],
      "authorship_tag": "ABX9TyMxOGFwHCwjwWDDWtZTPUll",
      "include_colab_link": true
    },
    "kernelspec": {
      "name": "python3",
      "display_name": "Python 3"
    },
    "language_info": {
      "name": "python"
    }
  },
  "cells": [
    {
      "cell_type": "markdown",
      "metadata": {
        "id": "view-in-github",
        "colab_type": "text"
      },
      "source": [
        "<a href=\"https://colab.research.google.com/github/shunnnl/2023-AI-BASIC/blob/main/%EC%9E%85%EC%B6%9C%EB%A0%A5.ipynb\" target=\"_parent\"><img src=\"https://colab.research.google.com/assets/colab-badge.svg\" alt=\"Open In Colab\"/></a>"
      ]
    },
    {
      "cell_type": "code",
      "execution_count": null,
      "metadata": {
        "colab": {
          "base_uri": "https://localhost:8080/"
        },
        "id": "JyTXQe5qP84N",
        "outputId": "513a5680-8f36-4ece-bd44-bb4896e1f439"
      },
      "outputs": [
        {
          "output_type": "stream",
          "name": "stdout",
          "text": [
            "이름을 입력하세요:하시윤\n",
            "하시윤님, 안녕하세요\n"
          ]
        }
      ],
      "source": [
        "# 시스템 입력\n",
        "name=input('이름을 입력하세요:')\n",
        "print(name+'님, 안녕하세요')"
      ]
    },
    {
      "cell_type": "code",
      "source": [
        "height=float(input(\"키를 입력하세요\"))\n",
        "weight=(height-100)*0.9\n",
        "print(\"권장 체중은 \"+str(weight)+\"kg 입니다\")"
      ],
      "metadata": {
        "colab": {
          "base_uri": "https://localhost:8080/"
        },
        "id": "p3l1GW7IVJfZ",
        "outputId": "48c53d64-c61b-4bb3-db06-3b26212d2787"
      },
      "execution_count": null,
      "outputs": [
        {
          "output_type": "stream",
          "name": "stdout",
          "text": [
            "키를 입력하세요169\n",
            "권장 체중은 62.1kg 입니다\n"
          ]
        }
      ]
    },
    {
      "cell_type": "code",
      "source": [
        "# 시스템 출력 - sep, end, \\n, \n",
        "print(\"apple\",\"banana\",\"mango\",sep=\",\")\n",
        "print(\"원숭이 엉덩이는 빨개 \",end=\"\")\n",
        "print(\"빨가면 사과\")\n",
        "print(\"산토끼 토끼야\\n어디를 가느냐\")"
      ],
      "metadata": {
        "colab": {
          "base_uri": "https://localhost:8080/"
        },
        "id": "d4Ck-npmHrNL",
        "outputId": "e4ee59f2-052f-44ec-c48e-34e7a5f2020a"
      },
      "execution_count": null,
      "outputs": [
        {
          "output_type": "stream",
          "name": "stdout",
          "text": [
            "apple,banana,mango\n",
            "원숭이 엉덩이는 빨개 빨가면 사과\n",
            "산토끼 토끼야\n",
            "어디를 가느냐\n"
          ]
        }
      ]
    },
    {
      "cell_type": "code",
      "source": [
        "# 포맷 스트링\n",
        "print(\"나는 {},{}을 먹고 싶다\".format(\"치킨\",\"피자\"))\n",
        "print(\"나는 {0},{1}을 먹고 싶다. 우리집엔 {1}이 배달되지 않아 슬프다.\".format(\"치킨\",\"피자\"))\n",
        "print(\"{name}님, 반갑습니다. 적립금은 {money}원입니다.\".format(name=\"홍길동\",money=500))\n",
        "\n",
        "food=\"치킨\"\n",
        "print(\"나는 %s을 먹고 싶다\"%food)\n",
        "print(f\"나는 {food}을 먹고 싶다\")\n",
        "\n",
        "print(\"{:.2f}% 확신합니다.\".format(95.1234567))\n",
        "print(\"한 달 휴대폰 요금은 {:,}원입니다.\".format(100000))"
      ],
      "metadata": {
        "colab": {
          "base_uri": "https://localhost:8080/"
        },
        "id": "MyhGOBIiIVZs",
        "outputId": "60219ac5-f4c4-4fc7-934c-e651f60cd007"
      },
      "execution_count": null,
      "outputs": [
        {
          "output_type": "stream",
          "name": "stdout",
          "text": [
            "나는 치킨,피자을 먹고 싶다\n",
            "나는 치킨,피자을 먹고 싶다. 우리집엔 피자이 배달되지 않아 슬프다.\n",
            "홍길동님, 반갑습니다. 적립금은 500원입니다.\n",
            "나는 치킨을 먹고 싶다\n",
            "나는 치킨을 먹고 싶다\n",
            "95.12% 확신합니다.\n",
            "한 달 휴대폰 요금은 100,000원입니다.\n"
          ]
        }
      ]
    }
  ]
}
