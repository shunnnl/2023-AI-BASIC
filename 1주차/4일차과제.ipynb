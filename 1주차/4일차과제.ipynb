{
  "nbformat": 4,
  "nbformat_minor": 0,
  "metadata": {
    "colab": {
      "provenance": [],
      "authorship_tag": "ABX9TyORnH0+/qstX913xeF8u1bw",
      "include_colab_link": true
    },
    "kernelspec": {
      "name": "python3",
      "display_name": "Python 3"
    },
    "language_info": {
      "name": "python"
    }
  },
  "cells": [
    {
      "cell_type": "markdown",
      "metadata": {
        "id": "view-in-github",
        "colab_type": "text"
      },
      "source": [
        "<a href=\"https://colab.research.google.com/github/shunnnl/2023-AI-BASIC/blob/main/4%EC%9D%BC%EC%B0%A8%EA%B3%BC%EC%A0%9C.ipynb\" target=\"_parent\"><img src=\"https://colab.research.google.com/assets/colab-badge.svg\" alt=\"Open In Colab\"/></a>"
      ]
    },
    {
      "cell_type": "code",
      "execution_count": 4,
      "metadata": {
        "colab": {
          "base_uri": "https://localhost:8080/"
        },
        "id": "ZLxMFrTXBSBW",
        "outputId": "e381e70d-6a28-4865-9497-ee834fe47e5a"
      },
      "outputs": [
        {
          "output_type": "stream",
          "name": "stdout",
          "text": [
            "0\n",
            "1\n",
            "1\n",
            "2\n",
            "3\n",
            "5\n",
            "8\n",
            "13\n",
            "21\n",
            "34\n"
          ]
        }
      ],
      "source": [
        "def fib(n):\n",
        "  if n==0:\n",
        "    return 0\n",
        "  if n==1:\n",
        "    return 1\n",
        "  return fib(n-1)+fib(n-2)\n",
        "\n",
        "for i in range(10):\n",
        "  print(fib(i))"
      ]
    },
    {
      "cell_type": "code",
      "source": [
        "# '+' 문자열에서 사용 가능\n",
        "def compress_string(s):\n",
        "  result=s[0]\n",
        "  count=0\n",
        "  for st in s:\n",
        "    if st==result[-1]:\n",
        "      count+=1\n",
        "    else:\n",
        "      result+=str(count)+st\n",
        "      count=1\n",
        "  result+=str(count)\n",
        "\n",
        "  return result\n",
        "\n",
        "print(compress_string(\"aaabbcccccca\"))"
      ],
      "metadata": {
        "colab": {
          "base_uri": "https://localhost:8080/"
        },
        "id": "BMkjp-SmCTqb",
        "outputId": "711a0ba7-f2b7-49be-b343-131b9badfa8e"
      },
      "execution_count": 16,
      "outputs": [
        {
          "output_type": "stream",
          "name": "stdout",
          "text": [
            "a3b2c6a1\n"
          ]
        }
      ]
    },
    {
      "cell_type": "code",
      "source": [
        "# not in : 안에 없음을 확인.\n",
        "def chkDupNum(s):\n",
        "  result=[]\n",
        "  for value in s:\n",
        "    if value not in result:\n",
        "      result.append(value)\n",
        "    else:\n",
        "      return False\n",
        "  return len(result)==10\n",
        "\n",
        "print(chkDupNum(\"0123456789\"))\n",
        "print(chkDupNum(\"01234\"))\n",
        "print(chkDupNum(\"01234567890\"))\n",
        "print(chkDupNum(\"6789012345\"))\n",
        "print(chkDupNum(\"012322456789\"))"
      ],
      "metadata": {
        "colab": {
          "base_uri": "https://localhost:8080/"
        },
        "id": "hEaMBR-FE7bC",
        "outputId": "9624645a-86bf-4c03-9dfc-66b14f9c6d9f"
      },
      "execution_count": 12,
      "outputs": [
        {
          "output_type": "stream",
          "name": "stdout",
          "text": [
            "True\n",
            "False\n",
            "False\n",
            "True\n",
            "False\n"
          ]
        }
      ]
    },
    {
      "cell_type": "code",
      "source": [
        "class Calculator:\n",
        "  def __init__(self,numberList):\n",
        "    self.numberList=numberList\n",
        "\n",
        "  def sum(self):\n",
        "    result=0\n",
        "    for i in self.numberList:\n",
        "      result+=i\n",
        "    return result\n",
        "\n",
        "  def avg(self):\n",
        "    total=self.sum()\n",
        "    return (total/len(self.numberList))\n",
        "\n",
        "cal1=Calculator([1,2,3,4,5])\n",
        "print(cal1.sum())\n",
        "print(cal1.avg())\n",
        "cal2=Calculator([6,7,8,9,10])\n",
        "print(cal2.sum())\n",
        "print(cal2.avg())"
      ],
      "metadata": {
        "colab": {
          "base_uri": "https://localhost:8080/"
        },
        "id": "nvQUKyMWBTBV",
        "outputId": "36b6d6f4-17d2-4ca3-e856-e0247880b6c4"
      },
      "execution_count": 2,
      "outputs": [
        {
          "output_type": "stream",
          "name": "stdout",
          "text": [
            "15\n",
            "3.0\n",
            "40\n",
            "8.0\n"
          ]
        }
      ]
    },
    {
      "cell_type": "code",
      "source": [
        "# pop도 리스트에서 사용가능\n",
        "L=[1,3,5,7,9]\n",
        "\n",
        "temp=L[0]\n",
        "del L[0]\n",
        "L.append(temp)\n",
        "print(L)\n",
        "\n",
        "# 더 간단히\n",
        "L.append(L[0])\n",
        "L.pop(0)\n",
        "print(L)"
      ],
      "metadata": {
        "colab": {
          "base_uri": "https://localhost:8080/"
        },
        "id": "0x-9RwOaBcAn",
        "outputId": "74fef7eb-7401-420f-f0f3-270d4e4f63b9"
      },
      "execution_count": 17,
      "outputs": [
        {
          "output_type": "stream",
          "name": "stdout",
          "text": [
            "[3, 5, 7, 9, 1]\n",
            "[5, 7, 9, 1, 3]\n"
          ]
        }
      ]
    },
    {
      "cell_type": "code",
      "source": [
        "# random.randint(정수 시작 범위, 정수 끝 범위) - <=포함 정수 생성\n",
        "import random\n",
        "num=int(input(\"동전 던지기 시도 횟수를 입력(1 ~ 100) : \"))\n",
        "count=0\n",
        "for i in range(num):\n",
        "  if random.randint(0,1)==0:\n",
        "    count+=1\n",
        "  if 1<=i+1<=10 or (i+1)%10==0:\n",
        "    print(' {} 번째까지 던지기에서 앞면이 나올 확률 : {:.0f}%'.format((i+1),count/(i+1)*100))\n",
        "\n",
        "print(\"\\n*******************************************\")\n",
        "print('총 {}번 동전 던지기에서 앞면이 나올 확률 : {:.0f}%'.format(num,count/(i+1)*100))"
      ],
      "metadata": {
        "colab": {
          "base_uri": "https://localhost:8080/"
        },
        "id": "s_JopDE1BfeW",
        "outputId": "91ee7ecc-d623-4f45-9b64-5540914f941b"
      },
      "execution_count": 18,
      "outputs": [
        {
          "output_type": "stream",
          "name": "stdout",
          "text": [
            "동전 던지기 시도 횟수를 입력(1 ~ 100) : 25\n",
            " 1 번째까지 던지기에서 앞면이 나올 확률 : 100%\n",
            " 2 번째까지 던지기에서 앞면이 나올 확률 : 50%\n",
            " 3 번째까지 던지기에서 앞면이 나올 확률 : 67%\n",
            " 4 번째까지 던지기에서 앞면이 나올 확률 : 75%\n",
            " 5 번째까지 던지기에서 앞면이 나올 확률 : 60%\n",
            " 6 번째까지 던지기에서 앞면이 나올 확률 : 67%\n",
            " 7 번째까지 던지기에서 앞면이 나올 확률 : 71%\n",
            " 8 번째까지 던지기에서 앞면이 나올 확률 : 62%\n",
            " 9 번째까지 던지기에서 앞면이 나올 확률 : 56%\n",
            " 10 번째까지 던지기에서 앞면이 나올 확률 : 60%\n",
            " 20 번째까지 던지기에서 앞면이 나올 확률 : 60%\n",
            "\n",
            "*******************************************\n",
            "총 25번 동전 던지기에서 앞면이 나올 확률 : 56%\n"
          ]
        }
      ]
    },
    {
      "cell_type": "code",
      "source": [
        "# 이 부분 다시!!!!!!!!!!!!!!!!!!!!!!!!!!!!!!!!!\n",
        "n=input(\"수식 입력(예:20 * 40) :\")\n",
        "num=[]\n",
        "\n",
        "if n.find('*')>=0:\n",
        "  num=n.split(' * ')\n",
        "  print('%9.6f * %9.6f = '%(float(num[0]),float(num[1])),\"%9.6f\"%(float(num[0])*float(num[1])))\n",
        "elif n.find('+')>=0:\n",
        "  num=n.split(' + ')\n",
        "  print('%9.6f + %9.6f = '%(float(num[0]),float(num[1])),\"%9.6f\"%(float(num[0])+float(num[1])))\n",
        "elif n.find('-')>=0:\n",
        "  num=n.split(' - ')\n",
        "  print('%9.6f - %9.6f = '%(float(num[0]),float(num[1])),\"%9.6f\"%(float(num[0])-float(num[1])))\n",
        "elif n.find('/')>=0:\n",
        "  num=n.split(' / ')\n",
        "  print('%9.6f / %9.6f = '%(float(num[0]),float(num[1])),\"%9.6f\"%(float(num[0])/float(num[1])))\n",
        "else:\n",
        "  operator=n[n.find(' ')+1]\n",
        "  print('{} 지원하지 않는 연산자입니다.'.format(operator))"
      ],
      "metadata": {
        "colab": {
          "base_uri": "https://localhost:8080/"
        },
        "id": "l15E9UZ3ITAU",
        "outputId": "c86e74b9-d8d6-4373-f534-3829269d22e1"
      },
      "execution_count": 6,
      "outputs": [
        {
          "output_type": "stream",
          "name": "stdout",
          "text": [
            "수식 입력(예:20 * 40) :20 + 40\n",
            "20.000000 + 40.000000 =  60.000000\n"
          ]
        }
      ]
    },
    {
      "cell_type": "code",
      "source": [
        "from os import truncate\n",
        "num=int(input('구하려는 소수의 개수를 입력:'))\n",
        "count=0\n",
        "\n",
        "for i in range(2,1000):\n",
        "  distinct=True\n",
        "  for j in range(2,i):\n",
        "    if i%j==0:\n",
        "      distinct=False\n",
        "      break\n",
        "  if distinct==True:\n",
        "    count+=1\n",
        "    print(i)\n",
        "  if count==num:\n",
        "    break\n",
        "print(\"{}개의 소수를 찾았습니다\".format(num))"
      ],
      "metadata": {
        "colab": {
          "base_uri": "https://localhost:8080/"
        },
        "id": "q3rB28VLIbCz",
        "outputId": "ec459131-322d-4041-a710-ea1a922c7553"
      },
      "execution_count": 7,
      "outputs": [
        {
          "output_type": "stream",
          "name": "stdout",
          "text": [
            "구하려는 소수의 개수를 입력:11\n",
            "2\n",
            "3\n",
            "5\n",
            "7\n",
            "11\n",
            "13\n",
            "17\n",
            "19\n",
            "23\n",
            "29\n",
            "31\n",
            "11개의 소수를 찾았습니다\n"
          ]
        }
      ]
    },
    {
      "cell_type": "code",
      "source": [
        "# enter=''\n",
        "plus_list=[]\n",
        "minus_list=[]\n",
        "numbers=input('정수들을 입력:\\n').split(' ')\n",
        "sum=0\n",
        "\n",
        "for value in numbers:\n",
        "  if value=='':\n",
        "    print('입력한 숫자가 없습니다')\n",
        "  elif int(value)>0:\n",
        "    plus_list.append(int(value))\n",
        "    sum+=int(value)\n",
        "  elif int(value)<0:\n",
        "    minus_list.append(int(value))\n",
        "    sum+=int(value)\n",
        "print(\"양수: {}개, 음수: {}개, 합계: {}\".format(len(plus_list),len(minus_list),sum))\n"
      ],
      "metadata": {
        "colab": {
          "base_uri": "https://localhost:8080/"
        },
        "id": "xSYCGFeILPW2",
        "outputId": "569b16ba-33ca-461e-df55-2ff347324bef"
      },
      "execution_count": 31,
      "outputs": [
        {
          "output_type": "stream",
          "name": "stdout",
          "text": [
            "정수들을 입력:\n",
            "\n",
            "입력한 숫자가 없습니다\n",
            "양수: 0개, 음수: 0개, 합계: 0\n"
          ]
        }
      ]
    },
    {
      "cell_type": "code",
      "source": [
        "fruit = {'배' : [2, 1000], '자몽' : [1, 2000], '메론' : [1, 8000], '감' : [6, 800]}\n",
        "f = input(\"먹고 싶은 과일은? :\")\n",
        "total=0\n",
        "if f not in fruit.keys():\n",
        "  print('{} 준비되어 있지 않습니다'.format(f))\n",
        "else:\n",
        "  print('{} 맛있게 드세요'.format(f))\n",
        "  fruit.update({f:[fruit.get(f)[0]-1,fruit.get(f)[1]]})\n",
        "\n",
        "for key,value in fruit.items():\n",
        "    if 5-value[0]>=0:\n",
        "      total+=(5-value[0])*value[1]\n",
        "\n",
        "\n",
        "print('각 과일 당 최소 5개는 되도록 구입합니다')\n",
        "print('구입에 필요한 총 금액은 : {} 원 입니다'.format(total))"
      ],
      "metadata": {
        "colab": {
          "base_uri": "https://localhost:8080/"
        },
        "id": "gmzIeuASMNM2",
        "outputId": "a57eb559-6243-4522-bb3c-a38938a01eb1"
      },
      "execution_count": 13,
      "outputs": [
        {
          "output_type": "stream",
          "name": "stdout",
          "text": [
            "먹고 싶은 과일은? :배\n",
            "배 맛있게 드세요\n",
            "각 과일 당 최소 5개는 되도록 구입합니다\n",
            "구입에 필요한 총 금액은 : 44000 원 입니다\n"
          ]
        }
      ]
    },
    {
      "cell_type": "code",
      "source": [
        "def password_check(s):\n",
        "  if len(s)<8:\n",
        "    print(\"error! 8글자 이상이어야 함\")\n",
        "    return False\n",
        "  if len(s)>=14:\n",
        "    print(\"error! 14글자 미만이어야 함\")\n",
        "    return False\n",
        "  if s.isalpha():\n",
        "    print(\"error! 숫자도 포함되어야 함\")\n",
        "    return False\n",
        "  if s.isdigit():\n",
        "    print(\"error! 영문도 포함되어야 함\")\n",
        "    return False\n",
        "  for value in s:\n",
        "    if value.isdigit()==False or value.isalpha()==False:\n",
        "      print(\"error! 영문자, 숫자로만 구성되어야 함\")\n",
        "      return False\n",
        "  for value in s:\n",
        "    count=0\n",
        "    if value.isdigit():\n",
        "      count+=1\n",
        "    if count<2:\n",
        "      print(\"error! 최소한 2개의 숫자를 포함해야 함\")\n",
        "      return False\n",
        "  return True\n",
        "\n",
        "for _ in range(5):\n",
        "  num=input('Enter password : ')\n",
        "  distinct=password_check(num)\n",
        "  if distinct==True:\n",
        "    print(\"valid password\")\n",
        "    break\n",
        "  else:\n",
        "     print(\"Invalid password\")\n"
      ],
      "metadata": {
        "colab": {
          "base_uri": "https://localhost:8080/"
        },
        "id": "x3JXKlc3PJt0",
        "outputId": "1529af15-f483-4045-acb8-ff8adb19e199"
      },
      "execution_count": 18,
      "outputs": [
        {
          "output_type": "stream",
          "name": "stdout",
          "text": [
            "Enter password : hankukUniv\n",
            "error! 숫자도 포함되어야 함\n",
            "Invalid password\n",
            "Enter password : 123456789\n",
            "error! 영문도 포함되어야 함\n",
            "Invalid password\n",
            "Enter password : hankuk Univ\n",
            "error! 영문자, 숫자로만 구성되어야 함\n",
            "Invalid password\n",
            "Enter password : hankuk\n",
            "error! 8글자 이상이어야 함\n",
            "Invalid password\n",
            "Enter password : abcdefgh1\n",
            "error! 영문자, 숫자로만 구성되어야 함\n",
            "Invalid password\n"
          ]
        }
      ]
    },
    {
      "cell_type": "code",
      "source": [],
      "metadata": {
        "id": "xrQX0EdqLtJ9"
      },
      "execution_count": null,
      "outputs": []
    }
  ]
}
