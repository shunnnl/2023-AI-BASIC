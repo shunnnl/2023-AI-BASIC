{
  "nbformat": 4,
  "nbformat_minor": 0,
  "metadata": {
    "colab": {
      "provenance": [],
      "authorship_tag": "ABX9TyMjS6d7f9OncdUyek1lCITW",
      "include_colab_link": true
    },
    "kernelspec": {
      "name": "python3",
      "display_name": "Python 3"
    },
    "language_info": {
      "name": "python"
    }
  },
  "cells": [
    {
      "cell_type": "markdown",
      "metadata": {
        "id": "view-in-github",
        "colab_type": "text"
      },
      "source": [
        "<a href=\"https://colab.research.google.com/github/shunnnl/2023-AI-BASIC/blob/main/%ED%95%A8%EC%88%98_%EB%9E%8C%EB%8B%A4.ipynb\" target=\"_parent\"><img src=\"https://colab.research.google.com/assets/colab-badge.svg\" alt=\"Open In Colab\"/></a>"
      ]
    },
    {
      "cell_type": "code",
      "execution_count": 2,
      "metadata": {
        "colab": {
          "base_uri": "https://localhost:8080/"
        },
        "id": "KdNDL53KT-BA",
        "outputId": "fc20d5bc-18d9-44f8-b8cb-59781b6cb347"
      },
      "outputs": [
        {
          "output_type": "stream",
          "name": "stdout",
          "text": [
            "함수 연습\n"
          ]
        }
      ],
      "source": [
        "# 함수\n",
        "def test():\n",
        "  print(\"함수 연습\")\n",
        "test()"
      ]
    },
    {
      "cell_type": "code",
      "source": [
        "def coffee(temp):\n",
        "  result=''\n",
        "  if temp>0:\n",
        "    result=\"아이스 아메리카노\"\n",
        "  else:\n",
        "    result=\"따뜻한 아메리카노\"\n",
        "  return result\n",
        "print(\"추천 커피는 {}입니다.\".format(coffee(30)))"
      ],
      "metadata": {
        "colab": {
          "base_uri": "https://localhost:8080/"
        },
        "id": "iWBteDCKU_vi",
        "outputId": "6dbf7e8d-9bcc-4c63-abf6-d77c5c229fc4"
      },
      "execution_count": 4,
      "outputs": [
        {
          "output_type": "stream",
          "name": "stdout",
          "text": [
            "추천 커피는 아이스 아메리카노입니다.\n"
          ]
        }
      ]
    },
    {
      "cell_type": "code",
      "source": [
        "def update_scores(scores):\n",
        "  new_scores=[]\n",
        "\n",
        "  for s in scores:\n",
        "    new_scores.append(s+5)\n",
        "  \n",
        "  return new_scores\n",
        "\n",
        "scores=[80,90,70,65,85,95,90,80,75,80]\n",
        "print(update_scores(scores))"
      ],
      "metadata": {
        "colab": {
          "base_uri": "https://localhost:8080/"
        },
        "id": "JZ20HkpZVVXL",
        "outputId": "ab468d88-39d5-4a8a-9980-0c98a3be6a75"
      },
      "execution_count": 6,
      "outputs": [
        {
          "output_type": "stream",
          "name": "stdout",
          "text": [
            "[85, 95, 75, 70, 90, 100, 95, 85, 80, 85]\n"
          ]
        }
      ]
    },
    {
      "cell_type": "code",
      "source": [
        "def get_char_count(lyric,char):\n",
        "  count=0\n",
        "\n",
        "  for l in lyric:\n",
        "    if l==char:\n",
        "      count+=1\n",
        "  return count\n",
        "\n",
        "lyric=\"\"\"산토끼 토끼야. 어디를 가느냐. 깡충깡충 뛰면서. 어디를 가느냐.\n",
        "산 고개 고개를. 나 혼자 넘어서. 토실토실 알밤을. 주워 올 테야.\"\"\"\n",
        "print(get_char_count(lyric,\"산\"))"
      ],
      "metadata": {
        "colab": {
          "base_uri": "https://localhost:8080/"
        },
        "id": "sG9stFL8WXt2",
        "outputId": "1895d84f-d03f-4576-ef7d-49c29f324329"
      },
      "execution_count": 9,
      "outputs": [
        {
          "output_type": "stream",
          "name": "stdout",
          "text": [
            "2\n"
          ]
        }
      ]
    },
    {
      "cell_type": "code",
      "source": [
        "# 문자열 대문자, 소문자 변환 - upper(), lower()\n",
        "def change_word_case(word):\n",
        "  upperCase=word.upper()\n",
        "  lowerCase=word.lower()\n",
        "  return upperCase,lowerCase\n",
        "\n",
        "upper,lower=change_word_case(\"I love Seoul\")\n",
        "print('대문자는 {0}이고, 소문자는 {1}이야. 나는 대문자 {0} 문구가 적힌 티셔츠를 만들고 싶어'.format(upper,lower))"
      ],
      "metadata": {
        "colab": {
          "base_uri": "https://localhost:8080/"
        },
        "id": "ORGxkAhJXfEJ",
        "outputId": "26bdb7d6-6b16-4dba-81e0-3efb7768a0ff"
      },
      "execution_count": 10,
      "outputs": [
        {
          "output_type": "stream",
          "name": "stdout",
          "text": [
            "대문자는 I LOVE SEOUL이고, 소문자는 i love seoul이야. 나는 대문자 I LOVE SEOUL 문구가 적힌 티셔츠를 만들고 싶어\n"
          ]
        }
      ]
    },
    {
      "cell_type": "code",
      "source": [
        "# 인자에 default 값 설정(위치 : 마지막) - True\n",
        "def print_weight(height,man=True):\n",
        "  weight=0\n",
        "  if(man):\n",
        "    weight=(height-100)*0.9\n",
        "  else:\n",
        "    weight=height-100\n",
        "  print(\"권장 체중은 {}kg입니다.\".format(weight))\n",
        "\n",
        "print_weight(170)\n",
        "print_weight(170,False)\n"
      ],
      "metadata": {
        "colab": {
          "base_uri": "https://localhost:8080/"
        },
        "id": "QfwVq_kVYaRl",
        "outputId": "0d5d4d78-0242-4c41-e447-0ec4555130b3"
      },
      "execution_count": 12,
      "outputs": [
        {
          "output_type": "stream",
          "name": "stdout",
          "text": [
            "권장 체중은 63.0kg입니다.\n",
            "권장 체중은 70kg입니다.\n"
          ]
        }
      ]
    },
    {
      "cell_type": "code",
      "source": [
        "# 인자의 개수를 알 수 없을 때 - *args 사용하기\n",
        "def sum(*args):\n",
        "  result=0\n",
        "  for num in args:\n",
        "    result=result+num\n",
        "  return result\n",
        "\n",
        "sum(1,2,3)\n",
        "sum(2,4,6,8,10)"
      ],
      "metadata": {
        "colab": {
          "base_uri": "https://localhost:8080/"
        },
        "id": "hUgUAgwQgikE",
        "outputId": "467d833a-cff1-4bf5-97b1-04ff480e651d"
      },
      "execution_count": 15,
      "outputs": [
        {
          "output_type": "execute_result",
          "data": {
            "text/plain": [
              "30"
            ]
          },
          "metadata": {},
          "execution_count": 15
        }
      ]
    },
    {
      "cell_type": "code",
      "source": [
        "# lambda 인자 : 함수 본문\n",
        "sum5=lambda x : x+5\n",
        "print(sum5(100))\n",
        "\n",
        "weight=lambda height:(height-100)*0.9\n",
        "print(weight(170))\n",
        "\n",
        "weight2=lambda man, height : height-100 if man else (height-100)*0.9\n",
        "print(weight2(False,170))\n",
        "print(weight2(True,170))"
      ],
      "metadata": {
        "colab": {
          "base_uri": "https://localhost:8080/"
        },
        "id": "OMLJ2brkgqVa",
        "outputId": "0fcdbd4d-560d-4871-ae5b-329332fabe26"
      },
      "execution_count": 22,
      "outputs": [
        {
          "output_type": "stream",
          "name": "stdout",
          "text": [
            "105\n",
            "63.0\n",
            "63.0\n",
            "70\n"
          ]
        }
      ]
    },
    {
      "cell_type": "code",
      "source": [
        "# 문자열 관련 함수 정리\n",
        "# split(sep=\"구분자\", maxsplit=\"몇 번 쪼갤지 설정\")\n",
        "text=\"+82-10-1234-5678\"\n",
        "print(text.split(\"-\",1))\n",
        "\n",
        "# strip() - 문자열 시작과 끝 부분 삭제(default : 공백)\n",
        "text=\"XXXXaa토실토실 아기 돼지aaaaaa\"\n",
        "print(text.strip('a'))\n",
        "text=\"ssss토실토실 아기 돼지ssss\"\n",
        "print(text.rstrip('s'))\n",
        "\n",
        "# 문자열. join(list) - list에 문자열을 중간에 삽입함으로써 연결\n",
        "text1=\"->\"\n",
        "text2=[\"인천\",\"도쿄\",\"뉴욕\",\"파리\"]\n",
        "print(text1.join(text2))\n",
        "\n",
        "# 문자열.find(찾고자 하는 문자열) - 찾고자 하는 문자열 처음 index 반환\n",
        "text=\"송아지 송아지 얼룩 송아지\"\n",
        "print(text.find(\"송아지\"))\n",
        "\n",
        "# 문자열.count(찾고자 하는 문자열) - 찾고자 하는 문자열 개수 반환\n",
        "print(text.count(\"송아지\"))\n",
        "\n",
        "# 문자열.startswith(찾고자 하는 문자열), endswith - 찾고자 하는 문자열로 문자가 시작하는지 여부를 반환(True/False) \n",
        "animals=['강아지','송아지','돼지']\n",
        "for i in animals:\n",
        "  print(i.startswith('강아'))\n",
        "for i in animals:\n",
        "  print(i.endswith('지'))\n",
        "\n",
        "# 문자열,replace(찾는 문자열, 바꾸고자 하는 문자열) - 문자열 일부 변경 가능\n",
        "text=\"강아지\"\n",
        "print(text.replace(\"강\",\"송\"))"
      ],
      "metadata": {
        "colab": {
          "base_uri": "https://localhost:8080/"
        },
        "id": "1LkdyaIzhhiC",
        "outputId": "0ba18e54-b6ed-4fe6-8010-8107cd74fd82"
      },
      "execution_count": 41,
      "outputs": [
        {
          "output_type": "stream",
          "name": "stdout",
          "text": [
            "['+82', '10-1234-5678']\n",
            "XXXXaa토실토실 아기 돼지\n",
            "ssss토실토실 아기 돼지\n",
            "인천->도쿄->뉴욕->파리\n",
            "0\n",
            "3\n",
            "True\n",
            "False\n",
            "False\n",
            "True\n",
            "True\n",
            "True\n",
            "송아지\n"
          ]
        }
      ]
    }
  ]
}
