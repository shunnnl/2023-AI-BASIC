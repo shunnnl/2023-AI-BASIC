{
  "nbformat": 4,
  "nbformat_minor": 0,
  "metadata": {
    "colab": {
      "provenance": [],
      "authorship_tag": "ABX9TyPX9gSVUbf6jrp8RrBcTjXm",
      "include_colab_link": true
    },
    "kernelspec": {
      "name": "python3",
      "display_name": "Python 3"
    },
    "language_info": {
      "name": "python"
    }
  },
  "cells": [
    {
      "cell_type": "markdown",
      "metadata": {
        "id": "view-in-github",
        "colab_type": "text"
      },
      "source": [
        "<a href=\"https://colab.research.google.com/github/shunnnl/2023-AI-BASIC/blob/main/2%EC%9D%BC%EC%B0%A8%EA%B3%BC%EC%A0%9C.ipynb\" target=\"_parent\"><img src=\"https://colab.research.google.com/assets/colab-badge.svg\" alt=\"Open In Colab\"/></a>"
      ]
    },
    {
      "cell_type": "code",
      "execution_count": 12,
      "metadata": {
        "colab": {
          "base_uri": "https://localhost:8080/"
        },
        "id": "oGgDc94vQN-q",
        "outputId": "196ad3e5-c3ce-41f4-899d-d6abf87831bb"
      },
      "outputs": [
        {
          "output_type": "stream",
          "name": "stdout",
          "text": [
            "881120\n",
            "1068234\n",
            "881120\n",
            "1068234\n"
          ]
        }
      ],
      "source": [
        "pin=\"881120-1068234\"\n",
        "yyyymmdd=pin[:6]\n",
        "num=pin[7:]\n",
        "print(yyyymmdd)\n",
        "print(num)\n",
        "\n",
        "# split() : 문자열의 구분자를 인자로 받아 나누는 함수 -> 리스트 형태로 만들어짐.\n",
        "pin_list=pin.split(\"-\")\n",
        "yyyymmdd=pin_list[0]\n",
        "num=pin_list[1]\n",
        "\n",
        "print(yyyymmdd)\n",
        "print(num)"
      ]
    },
    {
      "cell_type": "code",
      "source": [
        "pin=\"881120-1068234\"\n",
        "print(pin[7])\n",
        "\n",
        "# split()사용\n",
        "print(pin.split('-')[1][0])\n"
      ],
      "metadata": {
        "colab": {
          "base_uri": "https://localhost:8080/"
        },
        "id": "Lihnd0dERQ3r",
        "outputId": "217dd4b4-e2e0-4b35-9197-e225aa698c85"
      },
      "execution_count": 13,
      "outputs": [
        {
          "output_type": "stream",
          "name": "stdout",
          "text": [
            "1\n",
            "1\n"
          ]
        }
      ]
    },
    {
      "cell_type": "code",
      "source": [
        "a=[1,3,5,4,2]\n",
        "a.sort(reverse=True)\n",
        "print(a)\n",
        "\n",
        "# reverse() 사용\n",
        "a.sort()\n",
        "a.reverse()\n",
        "print(a)"
      ],
      "metadata": {
        "colab": {
          "base_uri": "https://localhost:8080/"
        },
        "id": "DsTm-jWsRdaZ",
        "outputId": "ed779800-134c-438f-d37f-c534cdd73418"
      },
      "execution_count": 14,
      "outputs": [
        {
          "output_type": "stream",
          "name": "stdout",
          "text": [
            "[5, 4, 3, 2, 1]\n",
            "[5, 4, 3, 2, 1]\n"
          ]
        }
      ]
    },
    {
      "cell_type": "code",
      "source": [
        "a=['Life','is','too','short']\n",
        "a[0]+' '+a[1]+' '+a[2]+' '+a[3]\n",
        "\n",
        "# join() 사용\n",
        "result=' '.join(a)\n",
        "print(result)"
      ],
      "metadata": {
        "colab": {
          "base_uri": "https://localhost:8080/"
        },
        "id": "fK0IRULCRlTy",
        "outputId": "f2c4a097-0026-4a4f-8df1-ee8a8f52ad4c"
      },
      "execution_count": 15,
      "outputs": [
        {
          "output_type": "stream",
          "name": "stdout",
          "text": [
            "Life is too short\n"
          ]
        }
      ]
    },
    {
      "cell_type": "code",
      "source": [
        "a=(1,2,3)\n",
        "a=list(a)\n",
        "a.append(4)\n",
        "a=tuple(a)\n",
        "print(a)"
      ],
      "metadata": {
        "colab": {
          "base_uri": "https://localhost:8080/"
        },
        "id": "DV05Uj6aRy2z",
        "outputId": "2b788921-f87d-4581-ce03-2b3c2ff9a41b"
      },
      "execution_count": 22,
      "outputs": [
        {
          "output_type": "stream",
          "name": "stdout",
          "text": [
            "(1, 2, 3, 4)\n"
          ]
        }
      ]
    },
    {
      "cell_type": "code",
      "source": [
        "a={'A':90,'B':80,'C':70}\n",
        "\n",
        "# pop(key) : value를 return\n",
        "result=a.pop('B')\n",
        "print(a)\n",
        "print(result)"
      ],
      "metadata": {
        "colab": {
          "base_uri": "https://localhost:8080/"
        },
        "id": "kRIIYhPNUoi2",
        "outputId": "8dd7290e-2e3f-4553-9509-9b47cb80ffcc"
      },
      "execution_count": 24,
      "outputs": [
        {
          "output_type": "stream",
          "name": "stdout",
          "text": [
            "{'A': 90, 'C': 70}\n",
            "80\n"
          ]
        }
      ]
    },
    {
      "cell_type": "code",
      "source": [
        "a=[1,1,2,2,3,3,3,4,4,5]\n",
        "aSet=set(a)\n",
        "b=list(aSet)\n",
        "print(b)"
      ],
      "metadata": {
        "colab": {
          "base_uri": "https://localhost:8080/"
        },
        "id": "JXQURSUnWQAU",
        "outputId": "2f0e04ac-f1c6-46c9-f4d7-76d0f46f258d"
      },
      "execution_count": 25,
      "outputs": [
        {
          "output_type": "stream",
          "name": "stdout",
          "text": [
            "[1, 2, 3, 4, 5]\n"
          ]
        }
      ]
    },
    {
      "cell_type": "code",
      "source": [
        "# a값 변경 시 b값도 변경된다. 그 이유는 a와 b가 동일한 리스트를 참조하고 있다.\n",
        "a=b=[1,2,3]\n",
        "a[1]=4\n",
        "print(b)"
      ],
      "metadata": {
        "colab": {
          "base_uri": "https://localhost:8080/"
        },
        "id": "y12QWdFAWvH-",
        "outputId": "03beb8e3-0c53-4651-932e-dd9dea23b00b"
      },
      "execution_count": 26,
      "outputs": [
        {
          "output_type": "stream",
          "name": "stdout",
          "text": [
            "[1, 4, 3]\n"
          ]
        }
      ]
    },
    {
      "cell_type": "code",
      "source": [
        "# f\" \" : 문자열 내부에 {}안에 설정된 값은 변수를 사용해서 출력 가능하다.\n",
        "x=3928\n",
        "y=500\n",
        "z=100\n",
        "print(f\"{y}원짜리 동전 {x//y+(x%y>0)}개를 내세요\")\n",
        "print(f\"{z}원짜리 동전 {x//z+(x%z>0)}개를 내세요\")"
      ],
      "metadata": {
        "colab": {
          "base_uri": "https://localhost:8080/"
        },
        "id": "T2MTyDTAW4jS",
        "outputId": "88bba266-6942-4ab5-fc34-6dd581626736"
      },
      "execution_count": 29,
      "outputs": [
        {
          "output_type": "stream",
          "name": "stdout",
          "text": [
            "500원짜리 동전 8개를 내세요\n",
            "100원짜리 동전 40개를 내세요\n"
          ]
        }
      ]
    },
    {
      "cell_type": "code",
      "source": [
        "a=21.9\n",
        "b=37\n",
        "c=13.6\n",
        "print((a+b+c)/3)\n",
        "\n",
        "# round(값, 반올림 자릿수) : 반올림 함수\n",
        "print(round((a+b+c)/3,2))"
      ],
      "metadata": {
        "colab": {
          "base_uri": "https://localhost:8080/"
        },
        "id": "vUsa-MsHXT-x",
        "outputId": "7d511e8e-b2d4-4f7a-dd86-0df61c13f44a"
      },
      "execution_count": 30,
      "outputs": [
        {
          "output_type": "stream",
          "name": "stdout",
          "text": [
            "24.166666666666668\n",
            "24.17\n"
          ]
        }
      ]
    }
  ]
}
