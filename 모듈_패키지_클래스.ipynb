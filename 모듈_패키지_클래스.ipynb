{
  "nbformat": 4,
  "nbformat_minor": 0,
  "metadata": {
    "colab": {
      "provenance": [],
      "mount_file_id": "1oe9dqW0HTbA1ibjmMTEoHxtJWq81dVnJ",
      "authorship_tag": "ABX9TyPJOnxiI+VFkChTUlB6LUiS",
      "include_colab_link": true
    },
    "kernelspec": {
      "name": "python3",
      "display_name": "Python 3"
    },
    "language_info": {
      "name": "python"
    }
  },
  "cells": [
    {
      "cell_type": "markdown",
      "metadata": {
        "id": "view-in-github",
        "colab_type": "text"
      },
      "source": [
        "<a href=\"https://colab.research.google.com/github/shunnnl/2023-AI-BASIC/blob/main/%EB%AA%A8%EB%93%88_%ED%8C%A8%ED%82%A4%EC%A7%80_%ED%81%B4%EB%9E%98%EC%8A%A4.ipynb\" target=\"_parent\"><img src=\"https://colab.research.google.com/assets/colab-badge.svg\" alt=\"Open In Colab\"/></a>"
      ]
    },
    {
      "cell_type": "code",
      "execution_count": 1,
      "metadata": {
        "colab": {
          "base_uri": "https://localhost:8080/"
        },
        "id": "vgYCGK52vmYQ",
        "outputId": "0d63a569-5ab9-4bd8-f8b9-c5bbb0360bfc"
      },
      "outputs": [
        {
          "output_type": "stream",
          "name": "stdout",
          "text": [
            "['/content', '/env/python', '/usr/lib/python39.zip', '/usr/lib/python3.9', '/usr/lib/python3.9/lib-dynload', '', '/usr/local/lib/python3.9/dist-packages', '/usr/lib/python3/dist-packages', '/usr/local/lib/python3.9/dist-packages/IPython/extensions', '/root/.ipython', '/content/drive/MyDrive/Colab Notebooks']\n"
          ]
        }
      ],
      "source": [
        "# 모듈 : 함수들의 꾸러미\n",
        "# 패키지 : 모듈들의 꾸러미\n",
        "# 클래스 : 현실 세상을 컴퓨터 세계로 추상화\n",
        "\n",
        "import sys\n",
        "sys.path.append('/content/drive/MyDrive/Colab Notebooks')\n",
        "print(sys.path)"
      ]
    },
    {
      "cell_type": "code",
      "source": [
        "import diet as dd\n",
        "print(dd.get_recommend_weight(160,False))\n",
        "print(dd.menu)\n",
        "print(dd.print_valid_menu())"
      ],
      "metadata": {
        "colab": {
          "base_uri": "https://localhost:8080/"
        },
        "id": "BB8lEA7Yyb2m",
        "outputId": "4ad58a4a-b709-41f8-ec3c-952a7881ccf3"
      },
      "execution_count": 8,
      "outputs": [
        {
          "output_type": "stream",
          "name": "stdout",
          "text": [
            "권장 체중은 60kg 입니다\n",
            "60\n",
            "{'고구마': 200, '떡볶이': 600, '라면': 800}\n",
            "고구마:O\n",
            "떡볶이:X\n",
            "라면:X\n",
            "None\n"
          ]
        }
      ]
    },
    {
      "cell_type": "code",
      "source": [
        "from diet import get_recommend_weight,print_valid_menu\n",
        "print(get_recommend_weight(160,False))\n",
        "print(print_valid_menu())"
      ],
      "metadata": {
        "colab": {
          "base_uri": "https://localhost:8080/"
        },
        "id": "pTWsXc27yc8l",
        "outputId": "e511bea2-5923-4c9e-be61-b04eff2b193e"
      },
      "execution_count": 7,
      "outputs": [
        {
          "output_type": "stream",
          "name": "stdout",
          "text": [
            "권장 체중은 60kg 입니다\n",
            "60\n",
            "고구마:O\n",
            "떡볶이:X\n",
            "라면:X\n",
            "None\n"
          ]
        }
      ]
    }
  ]
}